{
  "nbformat": 4,
  "nbformat_minor": 0,
  "metadata": {
    "colab": {
      "name": "CNN_cifar100.ipynb",
      "provenance": []
    },
    "kernelspec": {
      "name": "python3",
      "display_name": "Python 3"
    },
    "widgets": {
      "application/vnd.jupyter.widget-state+json": {
        "35eb5b4a55944e3992f2d8e862e2df85": {
          "model_module": "@jupyter-widgets/controls",
          "model_name": "HBoxModel",
          "state": {
            "_view_name": "HBoxView",
            "_dom_classes": [],
            "_model_name": "HBoxModel",
            "_view_module": "@jupyter-widgets/controls",
            "_model_module_version": "1.5.0",
            "_view_count": null,
            "_view_module_version": "1.5.0",
            "box_style": "",
            "layout": "IPY_MODEL_9e84a306d00044a8b96531c9ff28f96c",
            "_model_module": "@jupyter-widgets/controls",
            "children": [
              "IPY_MODEL_a6da4c7fccfe46c8a995dfce168d7937",
              "IPY_MODEL_c05e54816aa2458e9aec9ab339fadb62"
            ]
          }
        },
        "9e84a306d00044a8b96531c9ff28f96c": {
          "model_module": "@jupyter-widgets/base",
          "model_name": "LayoutModel",
          "state": {
            "_view_name": "LayoutView",
            "grid_template_rows": null,
            "right": null,
            "justify_content": null,
            "_view_module": "@jupyter-widgets/base",
            "overflow": null,
            "_model_module_version": "1.2.0",
            "_view_count": null,
            "flex_flow": null,
            "width": null,
            "min_width": null,
            "border": null,
            "align_items": null,
            "bottom": null,
            "_model_module": "@jupyter-widgets/base",
            "top": null,
            "grid_column": null,
            "overflow_y": null,
            "overflow_x": null,
            "grid_auto_flow": null,
            "grid_area": null,
            "grid_template_columns": null,
            "flex": null,
            "_model_name": "LayoutModel",
            "justify_items": null,
            "grid_row": null,
            "max_height": null,
            "align_content": null,
            "visibility": null,
            "align_self": null,
            "height": null,
            "min_height": null,
            "padding": null,
            "grid_auto_rows": null,
            "grid_gap": null,
            "max_width": null,
            "order": null,
            "_view_module_version": "1.2.0",
            "grid_template_areas": null,
            "object_position": null,
            "object_fit": null,
            "grid_auto_columns": null,
            "margin": null,
            "display": null,
            "left": null
          }
        },
        "a6da4c7fccfe46c8a995dfce168d7937": {
          "model_module": "@jupyter-widgets/controls",
          "model_name": "FloatProgressModel",
          "state": {
            "_view_name": "ProgressView",
            "style": "IPY_MODEL_7d83f1969a2f45e79c96d8416c5c1e97",
            "_dom_classes": [],
            "description": "",
            "_model_name": "FloatProgressModel",
            "bar_style": "info",
            "max": 1,
            "_view_module": "@jupyter-widgets/controls",
            "_model_module_version": "1.5.0",
            "value": 1,
            "_view_count": null,
            "_view_module_version": "1.5.0",
            "orientation": "horizontal",
            "min": 0,
            "description_tooltip": null,
            "_model_module": "@jupyter-widgets/controls",
            "layout": "IPY_MODEL_b30863f9681743a89079e359e6203ae5"
          }
        },
        "c05e54816aa2458e9aec9ab339fadb62": {
          "model_module": "@jupyter-widgets/controls",
          "model_name": "HTMLModel",
          "state": {
            "_view_name": "HTMLView",
            "style": "IPY_MODEL_9beea1bc144448209a93a00b81ee5198",
            "_dom_classes": [],
            "description": "",
            "_model_name": "HTMLModel",
            "placeholder": "​",
            "_view_module": "@jupyter-widgets/controls",
            "_model_module_version": "1.5.0",
            "value": " 169009152/? [00:20&lt;00:00, 81253642.10it/s]",
            "_view_count": null,
            "_view_module_version": "1.5.0",
            "description_tooltip": null,
            "_model_module": "@jupyter-widgets/controls",
            "layout": "IPY_MODEL_07c3a17d9fa443bfad9b2477c5f55a77"
          }
        },
        "7d83f1969a2f45e79c96d8416c5c1e97": {
          "model_module": "@jupyter-widgets/controls",
          "model_name": "ProgressStyleModel",
          "state": {
            "_view_name": "StyleView",
            "_model_name": "ProgressStyleModel",
            "description_width": "initial",
            "_view_module": "@jupyter-widgets/base",
            "_model_module_version": "1.5.0",
            "_view_count": null,
            "_view_module_version": "1.2.0",
            "bar_color": null,
            "_model_module": "@jupyter-widgets/controls"
          }
        },
        "b30863f9681743a89079e359e6203ae5": {
          "model_module": "@jupyter-widgets/base",
          "model_name": "LayoutModel",
          "state": {
            "_view_name": "LayoutView",
            "grid_template_rows": null,
            "right": null,
            "justify_content": null,
            "_view_module": "@jupyter-widgets/base",
            "overflow": null,
            "_model_module_version": "1.2.0",
            "_view_count": null,
            "flex_flow": null,
            "width": null,
            "min_width": null,
            "border": null,
            "align_items": null,
            "bottom": null,
            "_model_module": "@jupyter-widgets/base",
            "top": null,
            "grid_column": null,
            "overflow_y": null,
            "overflow_x": null,
            "grid_auto_flow": null,
            "grid_area": null,
            "grid_template_columns": null,
            "flex": null,
            "_model_name": "LayoutModel",
            "justify_items": null,
            "grid_row": null,
            "max_height": null,
            "align_content": null,
            "visibility": null,
            "align_self": null,
            "height": null,
            "min_height": null,
            "padding": null,
            "grid_auto_rows": null,
            "grid_gap": null,
            "max_width": null,
            "order": null,
            "_view_module_version": "1.2.0",
            "grid_template_areas": null,
            "object_position": null,
            "object_fit": null,
            "grid_auto_columns": null,
            "margin": null,
            "display": null,
            "left": null
          }
        },
        "9beea1bc144448209a93a00b81ee5198": {
          "model_module": "@jupyter-widgets/controls",
          "model_name": "DescriptionStyleModel",
          "state": {
            "_view_name": "StyleView",
            "_model_name": "DescriptionStyleModel",
            "description_width": "",
            "_view_module": "@jupyter-widgets/base",
            "_model_module_version": "1.5.0",
            "_view_count": null,
            "_view_module_version": "1.2.0",
            "_model_module": "@jupyter-widgets/controls"
          }
        },
        "07c3a17d9fa443bfad9b2477c5f55a77": {
          "model_module": "@jupyter-widgets/base",
          "model_name": "LayoutModel",
          "state": {
            "_view_name": "LayoutView",
            "grid_template_rows": null,
            "right": null,
            "justify_content": null,
            "_view_module": "@jupyter-widgets/base",
            "overflow": null,
            "_model_module_version": "1.2.0",
            "_view_count": null,
            "flex_flow": null,
            "width": null,
            "min_width": null,
            "border": null,
            "align_items": null,
            "bottom": null,
            "_model_module": "@jupyter-widgets/base",
            "top": null,
            "grid_column": null,
            "overflow_y": null,
            "overflow_x": null,
            "grid_auto_flow": null,
            "grid_area": null,
            "grid_template_columns": null,
            "flex": null,
            "_model_name": "LayoutModel",
            "justify_items": null,
            "grid_row": null,
            "max_height": null,
            "align_content": null,
            "visibility": null,
            "align_self": null,
            "height": null,
            "min_height": null,
            "padding": null,
            "grid_auto_rows": null,
            "grid_gap": null,
            "max_width": null,
            "order": null,
            "_view_module_version": "1.2.0",
            "grid_template_areas": null,
            "object_position": null,
            "object_fit": null,
            "grid_auto_columns": null,
            "margin": null,
            "display": null,
            "left": null
          }
        }
      }
    }
  },
  "cells": [
    {
      "cell_type": "code",
      "metadata": {
        "id": "o_Uiu3h221Tf",
        "colab_type": "code",
        "colab": {}
      },
      "source": [
        "\n",
        "import torch\n",
        "import torch.nn as nn\n",
        "import torchvision.transforms as transforms\n",
        "import torchvision.datasets as dsets\n",
        "from torch import optim\n",
        "from torch.autograd import Variable\n",
        "import torch.nn.functional as F"
      ],
      "execution_count": 0,
      "outputs": []
    },
    {
      "cell_type": "code",
      "metadata": {
        "id": "OLyx6xOv25k6",
        "colab_type": "code",
        "colab": {}
      },
      "source": [
        "\n",
        "normalize = transforms.Compose([transforms.ToTensor(),\n",
        "                              transforms.Normalize((0.5,),(0.5,)),\n",
        "                              ])"
      ],
      "execution_count": 0,
      "outputs": []
    },
    {
      "cell_type": "code",
      "metadata": {
        "id": "GSrmhDVY265V",
        "colab_type": "code",
        "outputId": "195ebef2-3a39-402c-aee8-c033d700dacc",
        "colab": {
          "base_uri": "https://localhost:8080/",
          "height": 103,
          "referenced_widgets": [
            "35eb5b4a55944e3992f2d8e862e2df85",
            "9e84a306d00044a8b96531c9ff28f96c",
            "a6da4c7fccfe46c8a995dfce168d7937",
            "c05e54816aa2458e9aec9ab339fadb62",
            "7d83f1969a2f45e79c96d8416c5c1e97",
            "b30863f9681743a89079e359e6203ae5",
            "9beea1bc144448209a93a00b81ee5198",
            "07c3a17d9fa443bfad9b2477c5f55a77"
          ]
        }
      },
      "source": [
        "train_dataset = dsets.CIFAR100(root='./data', \n",
        "                            train=True, \n",
        "                            transform=normalize,\n",
        "                            download=True)\n",
        "\n",
        "test_dataset = dsets.CIFAR100(root='./data', \n",
        "                           train=False, \n",
        "                           transform=normalize)"
      ],
      "execution_count": 0,
      "outputs": [
        {
          "output_type": "stream",
          "text": [
            "Downloading https://www.cs.toronto.edu/~kriz/cifar-100-python.tar.gz to ./data/cifar-100-python.tar.gz\n"
          ],
          "name": "stdout"
        },
        {
          "output_type": "display_data",
          "data": {
            "application/vnd.jupyter.widget-view+json": {
              "model_id": "35eb5b4a55944e3992f2d8e862e2df85",
              "version_minor": 0,
              "version_major": 2
            },
            "text/plain": [
              "HBox(children=(FloatProgress(value=1.0, bar_style='info', max=1.0), HTML(value='')))"
            ]
          },
          "metadata": {
            "tags": []
          }
        },
        {
          "output_type": "stream",
          "text": [
            "Extracting ./data/cifar-100-python.tar.gz to ./data\n"
          ],
          "name": "stdout"
        }
      ]
    },
    {
      "cell_type": "code",
      "metadata": {
        "id": "ksaN805w3DEG",
        "colab_type": "code",
        "colab": {}
      },
      "source": [
        "batch_size = 100\n",
        "n_iters = 3000\n",
        "num_epochs = n_iters / (len(train_dataset) / batch_size)\n",
        "num_epochs = int(num_epochs)\n",
        "\n",
        "train_loader = torch.utils.data.DataLoader(dataset=train_dataset, \n",
        "                                           batch_size=batch_size, \n",
        "                                           shuffle=True)\n",
        "\n",
        "test_loader = torch.utils.data.DataLoader(dataset=test_dataset, \n",
        "                                          batch_size=batch_size, \n",
        "                                          shuffle=False)"
      ],
      "execution_count": 0,
      "outputs": []
    },
    {
      "cell_type": "code",
      "metadata": {
        "id": "3zNkGXzE3Z4R",
        "colab_type": "code",
        "colab": {}
      },
      "source": [
        "class CNNModel(torch.nn.Module):\n",
        "    def __init__(self):\n",
        "        super().__init__()\n",
        "        \n",
        "        #Conv 1\n",
        "        self.cnn1 = nn.Conv2d(in_channels=3,out_channels=16,kernel_size=5,stride=1,padding=2)\n",
        "        self.relu1 = nn.ReLU()\n",
        "        \n",
        "        #maxpool1\n",
        "        self.maxpool1 = nn.MaxPool2d(kernel_size=2)\n",
        "        \n",
        "        #Conv 2\n",
        "        self.cnn2 = nn.Conv2d(in_channels=16,out_channels=32,kernel_size=5,stride=1,padding=2)\n",
        "        self.relu2 = nn.ReLU()\n",
        "\n",
        "        #Conv 3\n",
        "        self.cnn3 = nn.Conv2d(in_channels=32,out_channels=64,kernel_size=5,stride=1,padding=2)\n",
        "        self.relu3 = nn.ReLU()\n",
        "\n",
        "        \n",
        "        #Maxpool 2\n",
        "        self.maxpool2 = nn.MaxPool2d(kernel_size=2)\n",
        "        \n",
        "        # 8 = (32/2)/2\n",
        "        self.fc1 = nn.Linear(64*8*8,100)\n",
        "        \n",
        "    def forward(self,x):\n",
        "        # x is of size (64,1,28,28)\n",
        "        # reshape to (64,784)\n",
        "        out = self.cnn1(x)\n",
        "        out = self.relu1(out)\n",
        "        out = self.maxpool1(out)\n",
        "\n",
        "        out = self.cnn2(out)\n",
        "        out = self.relu2(out)\n",
        "\n",
        "        out = self.cnn3(out)\n",
        "        out = self.relu3(out)\n",
        "        \n",
        "        out = self.maxpool2(out)\n",
        "        out = out.view(out.shape[0],-1)\n",
        "        \n",
        "        out = self.fc1(out)\n",
        "        return out"
      ],
      "execution_count": 0,
      "outputs": []
    },
    {
      "cell_type": "code",
      "metadata": {
        "id": "xdmchajX3fgk",
        "colab_type": "code",
        "outputId": "ff31f776-0be2-477f-f936-a1c820e409b5",
        "colab": {
          "base_uri": "https://localhost:8080/",
          "height": 204
        }
      },
      "source": [
        "model = CNNModel()\n",
        "\n",
        "print(model)"
      ],
      "execution_count": 0,
      "outputs": [
        {
          "output_type": "stream",
          "text": [
            "CNNModel(\n",
            "  (cnn1): Conv2d(3, 16, kernel_size=(5, 5), stride=(1, 1), padding=(2, 2))\n",
            "  (relu1): ReLU()\n",
            "  (maxpool1): MaxPool2d(kernel_size=2, stride=2, padding=0, dilation=1, ceil_mode=False)\n",
            "  (cnn2): Conv2d(16, 32, kernel_size=(5, 5), stride=(1, 1), padding=(2, 2))\n",
            "  (relu2): ReLU()\n",
            "  (cnn3): Conv2d(32, 64, kernel_size=(5, 5), stride=(1, 1), padding=(2, 2))\n",
            "  (relu3): ReLU()\n",
            "  (maxpool2): MaxPool2d(kernel_size=2, stride=2, padding=0, dilation=1, ceil_mode=False)\n",
            "  (fc1): Linear(in_features=4096, out_features=100, bias=True)\n",
            ")\n"
          ],
          "name": "stdout"
        }
      ]
    },
    {
      "cell_type": "code",
      "metadata": {
        "id": "E5NGLZvi3hl7",
        "colab_type": "code",
        "colab": {}
      },
      "source": [
        "learning_rate = 0.01\n",
        "criterion = nn.CrossEntropyLoss()\n",
        "\n",
        "optimizer = optim.SGD(model.parameters(),lr=learning_rate)"
      ],
      "execution_count": 0,
      "outputs": []
    },
    {
      "cell_type": "code",
      "metadata": {
        "id": "SYwyrlag9RnK",
        "colab_type": "code",
        "outputId": "53b35c56-95b4-4556-eba5-cd4903fbcbad",
        "colab": {
          "base_uri": "https://localhost:8080/",
          "height": 1000
        }
      },
      "source": [
        "epochs = 100\n",
        "iter_n = 0\n",
        "for e in range(epochs):\n",
        "    print('Epoch {}'.format(e+1))\n",
        "    running_loss = 0\n",
        "    for i, (images,labels) in enumerate(train_loader):\n",
        "        \n",
        "        images = images.requires_grad_()\n",
        "    \n",
        "        \n",
        "        optimizer.zero_grad()\n",
        "        \n",
        "        logits = model.forward(images)\n",
        "        \n",
        "        loss = criterion(logits,labels)\n",
        "        \n",
        "        loss.backward()\n",
        "        \n",
        "        optimizer.step()\n",
        "        \n",
        "        running_loss += loss.item()\n",
        "        \n",
        "        iter_n += 1\n",
        "        \n",
        "        if iter_n%500 == 0:\n",
        "            print('Iteration: {}.'.format(iter_n),end = ' ')\n",
        "            correct = 0\n",
        "            total = 0\n",
        "            with torch.no_grad():\n",
        "                for images, labels in test_loader:\n",
        "              \n",
        "                    logit = model(images)\n",
        "                    _, predicted = torch.max(logit.data, 1)\n",
        "                    total += labels.size(0)\n",
        "\n",
        "    \n",
        "                    correct += (predicted == labels).sum()\n",
        "                accuracy = 100 * correct / total\n",
        "        \n",
        "                print('Loss: {}. Accuracy: {}'.format(loss.item(), accuracy))"
      ],
      "execution_count": 0,
      "outputs": [
        {
          "output_type": "stream",
          "text": [
            "Epoch 1\n",
            "Iteration: 500. Loss: 3.170485734939575. Accuracy: 26\n",
            "Epoch 2\n",
            "Iteration: 1000. Loss: 2.8403568267822266. Accuracy: 28\n",
            "Epoch 3\n",
            "Iteration: 1500. Loss: 2.619936227798462. Accuracy: 30\n",
            "Epoch 4\n",
            "Iteration: 2000. Loss: 2.533473491668701. Accuracy: 32\n",
            "Epoch 5\n",
            "Iteration: 2500. Loss: 2.4687652587890625. Accuracy: 32\n",
            "Epoch 6\n",
            "Iteration: 3000. Loss: 2.5582540035247803. Accuracy: 34\n",
            "Epoch 7\n",
            "Iteration: 3500. Loss: 2.3123624324798584. Accuracy: 34\n",
            "Epoch 8\n",
            "Iteration: 4000. Loss: 2.0468714237213135. Accuracy: 36\n",
            "Epoch 9\n",
            "Iteration: 4500. Loss: 1.9932681322097778. Accuracy: 37\n",
            "Epoch 10\n",
            "Iteration: 5000. Loss: 1.9884216785430908. Accuracy: 36\n",
            "Epoch 11\n",
            "Iteration: 5500. Loss: 2.260952949523926. Accuracy: 37\n",
            "Epoch 12\n",
            "Iteration: 6000. Loss: 1.8582762479782104. Accuracy: 37\n",
            "Epoch 13\n",
            "Iteration: 6500. Loss: 1.9969524145126343. Accuracy: 38\n",
            "Epoch 14\n",
            "Iteration: 7000. Loss: 1.570594310760498. Accuracy: 38\n",
            "Epoch 15\n",
            "Iteration: 7500. Loss: 1.8061401844024658. Accuracy: 37\n",
            "Epoch 16\n",
            "Iteration: 8000. Loss: 2.083354949951172. Accuracy: 37\n",
            "Epoch 17\n",
            "Iteration: 8500. Loss: 1.4739282131195068. Accuracy: 38\n",
            "Epoch 18\n",
            "Iteration: 9000. Loss: 1.448310375213623. Accuracy: 37\n",
            "Epoch 19\n",
            "Iteration: 9500. Loss: 1.4055263996124268. Accuracy: 38\n",
            "Epoch 20\n",
            "Iteration: 10000. Loss: 1.3043458461761475. Accuracy: 37\n",
            "Epoch 21\n",
            "Iteration: 10500. Loss: 1.2443480491638184. Accuracy: 36\n",
            "Epoch 22\n",
            "Iteration: 11000. Loss: 1.1662217378616333. Accuracy: 37\n",
            "Epoch 23\n",
            "Iteration: 11500. Loss: 0.797218382358551. Accuracy: 37\n",
            "Epoch 24\n",
            "Iteration: 12000. Loss: 0.904552698135376. Accuracy: 36\n",
            "Epoch 25\n",
            "Iteration: 12500. Loss: 0.9502809047698975. Accuracy: 36\n",
            "Epoch 26\n",
            "Iteration: 13000. Loss: 0.815065860748291. Accuracy: 36\n",
            "Epoch 27\n",
            "Iteration: 13500. Loss: 0.5764555931091309. Accuracy: 36\n",
            "Epoch 28\n",
            "Iteration: 14000. Loss: 0.5641101598739624. Accuracy: 35\n",
            "Epoch 29\n",
            "Iteration: 14500. Loss: 0.7145670056343079. Accuracy: 35\n",
            "Epoch 30\n",
            "Iteration: 15000. Loss: 0.5231322646141052. Accuracy: 35\n",
            "Epoch 31\n",
            "Iteration: 15500. Loss: 0.5095033049583435. Accuracy: 34\n",
            "Epoch 32\n",
            "Iteration: 16000. Loss: 0.40148094296455383. Accuracy: 35\n",
            "Epoch 33\n",
            "Iteration: 16500. Loss: 0.4949568808078766. Accuracy: 34\n",
            "Epoch 34\n",
            "Iteration: 17000. Loss: 0.4863526225090027. Accuracy: 34\n",
            "Epoch 35\n",
            "Iteration: 17500. Loss: 0.38530272245407104. Accuracy: 34\n",
            "Epoch 36\n",
            "Iteration: 18000. Loss: 0.3991776704788208. Accuracy: 34\n",
            "Epoch 37\n",
            "Iteration: 18500. Loss: 0.32282769680023193. Accuracy: 34\n",
            "Epoch 38\n",
            "Iteration: 19000. Loss: 0.30951955914497375. Accuracy: 34\n",
            "Epoch 39\n",
            "Iteration: 19500. Loss: 0.18786287307739258. Accuracy: 34\n",
            "Epoch 40\n",
            "Iteration: 20000. Loss: 0.0992293730378151. Accuracy: 34\n",
            "Epoch 41\n",
            "Iteration: 20500. Loss: 0.14922519028186798. Accuracy: 34\n",
            "Epoch 42\n",
            "Iteration: 21000. Loss: 0.08010511100292206. Accuracy: 34\n",
            "Epoch 43\n",
            "Iteration: 21500. Loss: 0.12554943561553955. Accuracy: 34\n",
            "Epoch 44\n"
          ],
          "name": "stdout"
        },
        {
          "output_type": "error",
          "ename": "KeyboardInterrupt",
          "evalue": "ignored",
          "traceback": [
            "\u001b[0;31m---------------------------------------------------------------------------\u001b[0m",
            "\u001b[0;31mKeyboardInterrupt\u001b[0m                         Traceback (most recent call last)",
            "\u001b[0;32m<ipython-input-16-8c8676cb9872>\u001b[0m in \u001b[0;36m<module>\u001b[0;34m()\u001b[0m\n\u001b[1;32m     15\u001b[0m         \u001b[0mloss\u001b[0m \u001b[0;34m=\u001b[0m \u001b[0mcriterion\u001b[0m\u001b[0;34m(\u001b[0m\u001b[0mlogits\u001b[0m\u001b[0;34m,\u001b[0m\u001b[0mlabels\u001b[0m\u001b[0;34m)\u001b[0m\u001b[0;34m\u001b[0m\u001b[0;34m\u001b[0m\u001b[0m\n\u001b[1;32m     16\u001b[0m \u001b[0;34m\u001b[0m\u001b[0m\n\u001b[0;32m---> 17\u001b[0;31m         \u001b[0mloss\u001b[0m\u001b[0;34m.\u001b[0m\u001b[0mbackward\u001b[0m\u001b[0;34m(\u001b[0m\u001b[0;34m)\u001b[0m\u001b[0;34m\u001b[0m\u001b[0;34m\u001b[0m\u001b[0m\n\u001b[0m\u001b[1;32m     18\u001b[0m \u001b[0;34m\u001b[0m\u001b[0m\n\u001b[1;32m     19\u001b[0m         \u001b[0moptimizer\u001b[0m\u001b[0;34m.\u001b[0m\u001b[0mstep\u001b[0m\u001b[0;34m(\u001b[0m\u001b[0;34m)\u001b[0m\u001b[0;34m\u001b[0m\u001b[0;34m\u001b[0m\u001b[0m\n",
            "\u001b[0;32m/usr/local/lib/python3.6/dist-packages/torch/tensor.py\u001b[0m in \u001b[0;36mbackward\u001b[0;34m(self, gradient, retain_graph, create_graph)\u001b[0m\n\u001b[1;32m    196\u001b[0m                 \u001b[0mproducts\u001b[0m\u001b[0;34m.\u001b[0m \u001b[0mDefaults\u001b[0m \u001b[0mto\u001b[0m\u001b[0;31m \u001b[0m\u001b[0;31m`\u001b[0m\u001b[0;31m`\u001b[0m\u001b[0;32mFalse\u001b[0m\u001b[0;31m`\u001b[0m\u001b[0;31m`\u001b[0m\u001b[0;34m.\u001b[0m\u001b[0;34m\u001b[0m\u001b[0;34m\u001b[0m\u001b[0m\n\u001b[1;32m    197\u001b[0m         \"\"\"\n\u001b[0;32m--> 198\u001b[0;31m         \u001b[0mtorch\u001b[0m\u001b[0;34m.\u001b[0m\u001b[0mautograd\u001b[0m\u001b[0;34m.\u001b[0m\u001b[0mbackward\u001b[0m\u001b[0;34m(\u001b[0m\u001b[0mself\u001b[0m\u001b[0;34m,\u001b[0m \u001b[0mgradient\u001b[0m\u001b[0;34m,\u001b[0m \u001b[0mretain_graph\u001b[0m\u001b[0;34m,\u001b[0m \u001b[0mcreate_graph\u001b[0m\u001b[0;34m)\u001b[0m\u001b[0;34m\u001b[0m\u001b[0;34m\u001b[0m\u001b[0m\n\u001b[0m\u001b[1;32m    199\u001b[0m \u001b[0;34m\u001b[0m\u001b[0m\n\u001b[1;32m    200\u001b[0m     \u001b[0;32mdef\u001b[0m \u001b[0mregister_hook\u001b[0m\u001b[0;34m(\u001b[0m\u001b[0mself\u001b[0m\u001b[0;34m,\u001b[0m \u001b[0mhook\u001b[0m\u001b[0;34m)\u001b[0m\u001b[0;34m:\u001b[0m\u001b[0;34m\u001b[0m\u001b[0;34m\u001b[0m\u001b[0m\n",
            "\u001b[0;32m/usr/local/lib/python3.6/dist-packages/torch/autograd/__init__.py\u001b[0m in \u001b[0;36mbackward\u001b[0;34m(tensors, grad_tensors, retain_graph, create_graph, grad_variables)\u001b[0m\n\u001b[1;32m     98\u001b[0m     Variable._execution_engine.run_backward(\n\u001b[1;32m     99\u001b[0m         \u001b[0mtensors\u001b[0m\u001b[0;34m,\u001b[0m \u001b[0mgrad_tensors\u001b[0m\u001b[0;34m,\u001b[0m \u001b[0mretain_graph\u001b[0m\u001b[0;34m,\u001b[0m \u001b[0mcreate_graph\u001b[0m\u001b[0;34m,\u001b[0m\u001b[0;34m\u001b[0m\u001b[0;34m\u001b[0m\u001b[0m\n\u001b[0;32m--> 100\u001b[0;31m         allow_unreachable=True)  # allow_unreachable flag\n\u001b[0m\u001b[1;32m    101\u001b[0m \u001b[0;34m\u001b[0m\u001b[0m\n\u001b[1;32m    102\u001b[0m \u001b[0;34m\u001b[0m\u001b[0m\n",
            "\u001b[0;31mKeyboardInterrupt\u001b[0m: "
          ]
        }
      ]
    }
  ]
}