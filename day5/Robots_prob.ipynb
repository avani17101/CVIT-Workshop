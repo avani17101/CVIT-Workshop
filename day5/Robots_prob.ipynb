{
 "cells": [
  {
   "cell_type": "markdown",
   "metadata": {},
   "source": [
    "# Probability and statistics"
   ]
  },
  {
   "cell_type": "code",
   "execution_count": 1,
   "metadata": {},
   "outputs": [],
   "source": [
    "import numpy as np"
   ]
  },
  {
   "cell_type": "markdown",
   "metadata": {},
   "source": [
    "In this exercise we will apply basic concepts of probability and statistics to help a robot localise itself. Robot localization is an important task for any mobile robot as it needs to know where in the world it is currently situated in.\n",
    "\n",
    "You may think robot localization is a very easy problem as you can use GPS. But no! GPS has errors in localization upto a few metres which is very inaccurate for self driving cars.\n",
    "\n",
    "Hence, the robot needs to use sensors to locate itself. And sensors are noisy! Even the motion of a robot is uncertain.\n",
    "\n",
    "For the purposes of this exercise, let us assume that the world is a one dimensional world with  N  grid cells. Each grid cell is colored either red or green which can be measured using a sensor located in the robot. However, the sensor measurements are noisy and hence we need to take a probabilitic approach to determine in which of these grid cells the robot is situated in at a given instant of time.\n",
    "\n",
    "image\n",
    "\n",
    "The robot can move either left or right in this cyclic world. This motion is uncertain as well prompting us again to take a probabilistic approach. For example you may instruct the robot to move  5  cells. But it may move  4/6  cells due to a wheel slip.\n",
    "\n",
    "When the robot is switched on, it is in a state of maximum confusion. It doesn't know where it is situated. We will model this state of maximum confusion as uniform distribution. In other words, the robot has equal belief of being present in any of the cells.\n",
    "\n",
    "Complete the below function to return an array where the  ith  array element is the probability that the robot is in the  ith  grid cell at time instant  0  when the robot is switched on."
   ]
  },
  {
   "cell_type": "code",
   "execution_count": 2,
   "metadata": {},
   "outputs": [],
   "source": [
    "# Modify the empty list, p, so that it becomes a UNIFORM probability\n",
    "# distribution over n grid cells, as expressed in a list of \n",
    "# n probabilities.\n",
    "def init_distribution(n):\n",
    "    p = np.ones((5))\n",
    "    # Add your code here\n",
    "    p *= 1/n\n",
    "    \n",
    "    # End your code here\n",
    "    return p.tolist()"
   ]
  },
  {
   "cell_type": "code",
   "execution_count": 3,
   "metadata": {},
   "outputs": [
    {
     "data": {
      "text/plain": [
       "[0.2, 0.2, 0.2, 0.2, 0.2]"
      ]
     },
     "execution_count": 3,
     "metadata": {},
     "output_type": "execute_result"
    }
   ],
   "source": [
    "init_distribution(5)"
   ]
  },
  {
   "cell_type": "code",
   "execution_count": 9,
   "metadata": {},
   "outputs": [
    {
     "data": {
      "text/plain": [
       "[0.11111111111111112,\n",
       " 0.33333333333333337,\n",
       " 0.33333333333333337,\n",
       " 0.11111111111111112,\n",
       " 0.11111111111111112]"
      ]
     },
     "execution_count": 9,
     "metadata": {},
     "output_type": "execute_result"
    }
   ],
   "source": [
    "#given P(g|r) = .25, P(r|r) = .75\n",
    "#Modify the code below so that the function sense, which \n",
    "#takes p and Z as inputs, will output the normalized \n",
    "#probability distribution, q, after multiplying the entries \n",
    "# in p according to the color in the corresponding cell in world,\n",
    "# followed by normalization of the probability values\n",
    "world=['green', 'red', 'red', 'green', 'green']\n",
    "p = [0.2, 0.2, 0.2, 0.2, 0.2]\n",
    "\n",
    "def sense(p, Z):\n",
    "    q = np.zeros((len(p)))\n",
    "    # Add your code here\n",
    "    for i in range(len(p)):\n",
    "        if world[i] !=Z:\n",
    "            q[i] = 0.25*p[i]\n",
    "        else:\n",
    "            q[i] = 0.75*p[i]\n",
    "    q /= np.sum(q)  \n",
    "    # End your code here\n",
    "    return q.tolist()\n",
    "            \n",
    "sense(p, 'red')"
   ]
  },
  {
   "cell_type": "code",
   "execution_count": 10,
   "metadata": {},
   "outputs": [
    {
     "name": "stdout",
     "output_type": "stream",
     "text": [
      "[0.19999999999999998, 0.19999999999999998, 0.19999999999999998, 0.19999999999999998, 0.19999999999999998]\n"
     ]
    }
   ],
   "source": [
    "#Modify the code so that it updates the probability twice\n",
    "#and gives the posterior distribution after both \n",
    "#measurements are incorporated. Make sure that your code \n",
    "#allows for any sequence of measurement of any length.\n",
    "\n",
    "# DO NOT MODIFY THE SENSE FUNCTION. JUST CALL THE SENSE FUNCTION APPROPRIATELY\n",
    "\n",
    "p=[0.2, 0.2, 0.2, 0.2, 0.2]\n",
    "world=['green', 'red', 'red', 'green', 'green']\n",
    "measurements = ['red', 'green']\n",
    "\n",
    "# Add your code here\n",
    "for i in measurements:\n",
    "    p = sense(p,i)   \n",
    "# End your code here\n",
    "print(p)"
   ]
  },
  {
   "cell_type": "code",
   "execution_count": 11,
   "metadata": {},
   "outputs": [
    {
     "data": {
      "text/plain": [
       "array([0.11, 0.11, 0.33, 0.33, 0.11])"
      ]
     },
     "execution_count": 11,
     "metadata": {},
     "output_type": "execute_result"
    }
   ],
   "source": [
    "#Program a function that returns a new distribution \n",
    "#q, shifted to the right by U units. If U=0, q should \n",
    "#be the same as p.\n",
    "\n",
    "def move(p, U):\n",
    "    q = np.zeros(len(p))\n",
    "    p = np.array(p)\n",
    "    # ADD CODE HERE\n",
    "    if(U==0):\n",
    "        return p\n",
    "    else:\n",
    "        q = np.roll(p,U)\n",
    "    # END CODE HERE\n",
    "    return q\n",
    "\n",
    "move([0.11, 0.33, 0.33, 0.11, 0.11], 1)"
   ]
  },
  {
   "cell_type": "code",
   "execution_count": 16,
   "metadata": {},
   "outputs": [
    {
     "data": {
      "text/plain": [
       "array([0. , 0.1, 0.8, 0.1, 0. ])"
      ]
     },
     "execution_count": 16,
     "metadata": {},
     "output_type": "execute_result"
    }
   ],
   "source": [
    "#Modify the move function to accommodate the added \n",
    "#probabilities of overshooting or undershooting \n",
    "#the intended destination.\n",
    "\n",
    "def move(p,U):\n",
    "    \n",
    "    q = np.zeros(len(p))\n",
    "    for i in range(len(p)):\n",
    "        q[i] = 0.1*p[(i+1-U)%5] + 0.8*p[(i-U)%5] + 0.1*p[(i-U-1)%5]\n",
    "    return q\n",
    "    \n",
    "move([0, 1.0, 0,0,0],1)"
   ]
  },
  {
   "cell_type": "code",
   "execution_count": 18,
   "metadata": {},
   "outputs": [
    {
     "data": {
      "text/plain": [
       "array([0.01, 0.01, 0.16, 0.66, 0.16])"
      ]
     },
     "execution_count": 18,
     "metadata": {},
     "output_type": "execute_result"
    }
   ],
   "source": [
    "# Write code that makes the robot move twice and then prints \n",
    "# out the resulting distribution, starting with the initial \n",
    "# distribution p = [0, 1, 0, 0, 0]\n",
    "\n",
    "# Call the function appropriately from here\n",
    "\n",
    "# ADD CODE HERE\n",
    "move(move([0, 1.0, 0, 0, 0], 1), 1)\n",
    "# END CODE HERE\n"
   ]
  },
  {
   "cell_type": "code",
   "execution_count": 19,
   "metadata": {},
   "outputs": [
    {
     "data": {
      "text/plain": [
       "array([0.2, 0.2, 0.2, 0.2, 0.2])"
      ]
     },
     "execution_count": 19,
     "metadata": {},
     "output_type": "execute_result"
    }
   ],
   "source": [
    "#write code that moves 1000 times and then prints the \n",
    "#resulting probability distribution.\n",
    "\n",
    "p = [0, 1, 0, 0, 0]\n",
    "# ADD CODE HERE\n",
    "for i in range(1000):\n",
    "    q = move(p,1)\n",
    "    p = q\n",
    "# END CODE HERE\n",
    "p"
   ]
  },
  {
   "cell_type": "code",
   "execution_count": 20,
   "metadata": {},
   "outputs": [
    {
     "name": "stdout",
     "output_type": "stream",
     "text": [
      "[0.11111111111111112, 0.33333333333333337, 0.33333333333333337, 0.11111111111111112, 0.11111111111111112]\n",
      "[0.11111111 0.13333333 0.31111111 0.31111111 0.13333333]\n",
      "[0.15789473684210525, 0.06315789473684211, 0.14736842105263157, 0.4421052631578947, 0.18947368421052632]\n",
      "[0.21157895 0.15157895 0.08105263 0.16842105 0.38736842]\n",
      "[0.21157895 0.15157895 0.08105263 0.16842105 0.38736842]\n"
     ]
    }
   ],
   "source": [
    "#Given the list motions=[1,1] which means the robot \n",
    "#moves right and then right again, compute the posterior \n",
    "#distribution if the robot first senses red, then moves \n",
    "#right one, then senses green, then moves right again, \n",
    "#starting with a uniform prior distribution.\n",
    "\n",
    "world=['green', 'red', 'red', 'green', 'green']\n",
    "measurements = ['red', 'green']\n",
    "motions = [1,1]\n",
    "\n",
    "p = init_distribution(len(world))\n",
    "# ADD CODE HERE\n",
    "for i in range(2):\n",
    "    q = sense(p, measurements[i])\n",
    "    print(q)\n",
    "    q1 = move(q, motions[i])\n",
    "    print(q1)\n",
    "    p = q1\n",
    "print(p)\n"
   ]
  },
  {
   "cell_type": "code",
   "execution_count": null,
   "metadata": {},
   "outputs": [],
   "source": []
  }
 ],
 "metadata": {
  "kernelspec": {
   "display_name": "Python 3",
   "language": "python",
   "name": "python3"
  },
  "language_info": {
   "codemirror_mode": {
    "name": "ipython",
    "version": 3
   },
   "file_extension": ".py",
   "mimetype": "text/x-python",
   "name": "python",
   "nbconvert_exporter": "python",
   "pygments_lexer": "ipython3",
   "version": "3.7.5"
  }
 },
 "nbformat": 4,
 "nbformat_minor": 2
}
