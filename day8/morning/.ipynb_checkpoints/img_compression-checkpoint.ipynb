{
 "cells": [
  {
   "cell_type": "markdown",
   "metadata": {
    "colab_type": "text",
    "id": "McgerLIapPt2"
   },
   "source": [
    "Download India Flag image.\n",
    "\tConvert it to grayscale and\n",
    "\tOpen and display that image\n",
    "\tPrint the dimensions of the image\n",
    "\tCompute the number of integers required to store this imageMM"
   ]
  },
  {
   "cell_type": "code",
   "execution_count": 1,
   "metadata": {
    "colab": {
     "base_uri": "https://localhost:8080/",
     "height": 217
    },
    "colab_type": "code",
    "id": "L1TGgs0ooqoc",
    "outputId": "ead00e76-0809-4f50-d8d6-5449116ba173"
   },
   "outputs": [
    {
     "data": {
      "image/png": "[encoded data removed]",
      "text/plain": [
       "<PIL.Image.Image image mode=L size=275x183 at 0x7F84811016D8>"
      ]
     },
     "metadata": {
      "tags": []
     },
     "output_type": "display_data"
    },
    {
     "name": "stdout",
     "output_type": "stream",
     "text": [
      "(183, 275)\n"
     ]
    }
   ],
   "source": [
    "import cv2\n",
    "from google.colab.patches import cv2_imshow  \n",
    "flag = cv2.imread('flag.png',cv2.IMREAD_GRAYSCALE)  \n",
    "cv2_imshow(flag)\n",
    "dimensions = flag.shape\n",
    "print(dimensions)"
   ]
  },
  {
   "cell_type": "code",
   "execution_count": 2,
   "metadata": {
    "colab": {
     "base_uri": "https://localhost:8080/",
     "height": 34
    },
    "colab_type": "code",
    "id": "o88O9YyZo0IQ",
    "outputId": "562d83d1-8f83-4722-9f50-e7f9b507bbb5"
   },
   "outputs": [
    {
     "name": "stdout",
     "output_type": "stream",
     "text": [
      "50325\n"
     ]
    }
   ],
   "source": [
    "original_size = dimensions[0]*dimensions[1]\n",
    "print(original_size)"
   ]
  },
  {
   "cell_type": "markdown",
   "metadata": {
    "colab_type": "text",
    "id": "7FttSDAEpIuq"
   },
   "source": [
    "Apply SVD on the image to get U, D, V_T.\n",
    "\tNote how the D matrix is returned. You may need to use other numpy functions to convert to required form of D\n",
    "\tUsing U, D, V_T reconstruct back the image by matrix multiplication and display the image"
   ]
  },
  {
   "cell_type": "code",
   "execution_count": 0,
   "metadata": {
    "colab": {},
    "colab_type": "code",
    "id": "LD5eNancpsuq"
   },
   "outputs": [],
   "source": [
    "import numpy as np\n",
    "from numpy.linalg import svd"
   ]
  },
  {
   "cell_type": "code",
   "execution_count": 4,
   "metadata": {
    "colab": {
     "base_uri": "https://localhost:8080/",
     "height": 34
    },
    "colab_type": "code",
    "id": "0mopvmZNqMmO",
    "outputId": "473b6b18-0ad6-4a08-d2b7-9f730e14d99a"
   },
   "outputs": [
    {
     "name": "stdout",
     "output_type": "stream",
     "text": [
      "(183, 183) (275, 275) (183,)\n"
     ]
    }
   ],
   "source": [
    "U,D,V_T = svd(flag)\n",
    "print(U.shape, V_T.shape, D.shape)"
   ]
  },
  {
   "cell_type": "code",
   "execution_count": 0,
   "metadata": {
    "colab": {},
    "colab_type": "code",
    "id": "zsQp93qKqdz0"
   },
   "outputs": [],
   "source": [
    "k = 183\n",
    "reconst_matrix = np.dot(U[:,:k],np.dot(np.diag(D[:k]),V_T[:k,:]))"
   ]
  },
  {
   "cell_type": "code",
   "execution_count": 6,
   "metadata": {
    "colab": {
     "base_uri": "https://localhost:8080/",
     "height": 136
    },
    "colab_type": "code",
    "id": "FU-B21zarV5k",
    "outputId": "412bffe3-d663-4ef3-c979-04f537859c3e"
   },
   "outputs": [
    {
     "name": "stdout",
     "output_type": "stream",
     "text": [
      "[[171. 171. 171. ... 171. 171. 171.]\n",
      " [171. 171. 171. ... 171. 171. 171.]\n",
      " [171. 171. 171. ... 171. 171. 171.]\n",
      " ...\n",
      " [ 86.  86.  86. ...  86.  86.  86.]\n",
      " [ 86.  86.  86. ...  86.  86.  86.]\n",
      " [ 86.  86.  86. ...  86.  86.  86.]]\n"
     ]
    }
   ],
   "source": [
    "print(reconst_matrix)"
   ]
  },
  {
   "cell_type": "code",
   "execution_count": 7,
   "metadata": {
    "colab": {
     "base_uri": "https://localhost:8080/",
     "height": 200
    },
    "colab_type": "code",
    "id": "ZpJtvRCJsB1r",
    "outputId": "a16ba797-020f-4c55-c7ab-a65562358f70"
   },
   "outputs": [
    {
     "data": {
      "image/png": "[encoded data removed]",
      "text/plain": [
       "<PIL.Image.Image image mode=L size=275x183 at 0x7F84811013C8>"
      ]
     },
     "metadata": {
      "tags": []
     },
     "output_type": "display_data"
    }
   ],
   "source": [
    "cv2_imshow(reconst_matrix)"
   ]
  },
  {
   "cell_type": "markdown",
   "metadata": {
    "colab_type": "text",
    "id": "cibofn3UttFb"
   },
   "source": [
    "Keep a variable 'component'.\n",
    "\tUse only the first 'component' singular values/vectors from U,D,V_T\n",
    "\tReconstruct using 10 components"
   ]
  },
  {
   "cell_type": "code",
   "execution_count": 8,
   "metadata": {
    "colab": {
     "base_uri": "https://localhost:8080/",
     "height": 200
    },
    "colab_type": "code",
    "id": "_5sMTQEAtuff",
    "outputId": "fe0a757f-7e2a-4c90-86ca-d860eb437370"
   },
   "outputs": [
    {
     "data": {
      "image/png": "[encoded data removed]",
      "text/plain": [
       "<PIL.Image.Image image mode=L size=275x183 at 0x7F847806EA90>"
      ]
     },
     "metadata": {
      "tags": []
     },
     "output_type": "display_data"
    }
   ],
   "source": [
    "k=10\n",
    "reconst_matrix = np.dot(U[:,:k],np.dot(np.diag(D[:k]),V_T[:k,:]))\n",
    "cv2_imshow(reconst_matrix)"
   ]
  },
  {
   "cell_type": "code",
   "execution_count": 0,
   "metadata": {
    "colab": {},
    "colab_type": "code",
    "id": "eM_DnBljsHRZ"
   },
   "outputs": [],
   "source": [
    "def compress_grey_scale(img,k):\n",
    "  dim = img.shape\n",
    "  U,D,V_T = svd(flag)\n",
    "  rec_img = np.dot(U[:,:k],np.dot(np.diag(D[:k]),V_T[:k,:]))\n",
    "  rec_dim = rec_img.shape\n",
    "  compressed_size = k*(U.shape[1] + V_T.shape[0] + 1)\n",
    "  compression_ratio = (img.shape[0]*img.shape[1])/compressed_size\n",
    "\n",
    "  print(\"Components\" ,k,\"compression ratio:\",compression_ratio,'\\n')\n",
    "  cv2_imshow(rec_img)\n",
    "\n"
   ]
  },
  {
   "cell_type": "code",
   "execution_count": 10,
   "metadata": {
    "colab": {
     "base_uri": "https://localhost:8080/",
     "height": 234
    },
    "colab_type": "code",
    "id": "M69WcJGHxqMZ",
    "outputId": "121d9787-860c-42a5-8e4b-c27200b76476"
   },
   "outputs": [
    {
     "name": "stdout",
     "output_type": "stream",
     "text": [
      "Components 10 compression ratio: 10.9640522875817 \n",
      "\n"
     ]
    },
    {
     "data": {
      "image/png": "[encoded data removed]",
      "text/plain": [
       "<PIL.Image.Image image mode=L size=275x183 at 0x7F8478089CC0>"
      ]
     },
     "metadata": {
      "tags": []
     },
     "output_type": "display_data"
    }
   ],
   "source": [
    "compress_grey_scale(flag,10)"
   ]
  },
  {
   "cell_type": "code",
   "execution_count": 11,
   "metadata": {
    "colab": {
     "base_uri": "https://localhost:8080/",
     "height": 1000
    },
    "colab_type": "code",
    "id": "50BNAP7nxuA0",
    "outputId": "4a943ca8-28b8-4a18-83e3-68f537a27744"
   },
   "outputs": [
    {
     "name": "stdout",
     "output_type": "stream",
     "text": [
      "Components 1 compression ratio: 109.640522875817 \n",
      "\n"
     ]
    },
    {
     "data": {
      "image/png": "[encoded data removed]",
      "text/plain": [
       "<PIL.Image.Image image mode=L size=275x183 at 0x7F8478089EF0>"
      ]
     },
     "metadata": {
      "tags": []
     },
     "output_type": "display_data"
    },
    {
     "name": "stdout",
     "output_type": "stream",
     "text": [
      "Components 2 compression ratio: 54.8202614379085 \n",
      "\n"
     ]
    },
    {
     "data": {
      "image/png": "[encoded data removed]",
      "text/plain": [
       "<PIL.Image.Image image mode=L size=275x183 at 0x7F8478089F28>"
      ]
     },
     "metadata": {
      "tags": []
     },
     "output_type": "display_data"
    },
    {
     "name": "stdout",
     "output_type": "stream",
     "text": [
      "Components 3 compression ratio: 36.546840958605664 \n",
      "\n"
     ]
    },
    {
     "data": {
      "image/png": "[encoded data removed]",
      "text/plain": [
       "<PIL.Image.Image image mode=L size=275x183 at 0x7F8478089F60>"
      ]
     },
     "metadata": {
      "tags": []
     },
     "output_type": "display_data"
    },
    {
     "name": "stdout",
     "output_type": "stream",
     "text": [
      "Components 4 compression ratio: 27.41013071895425 \n",
      "\n"
     ]
    },
    {
     "data": {
      "image/png": "[encoded data removed]",
      "text/plain": [
       "<PIL.Image.Image image mode=L size=275x183 at 0x7F8478089E48>"
      ]
     },
     "metadata": {
      "tags": []
     },
     "output_type": "display_data"
    },
    {
     "name": "stdout",
     "output_type": "stream",
     "text": [
      "Components 5 compression ratio: 21.9281045751634 \n",
      "\n"
     ]
    },
    {
     "data": {
      "image/png": "[encoded data removed]",
      "text/plain": [
       "<PIL.Image.Image image mode=L size=275x183 at 0x7F8478089DD8>"
      ]
     },
     "metadata": {
      "tags": []
     },
     "output_type": "display_data"
    },
    {
     "name": "stdout",
     "output_type": "stream",
     "text": [
      "Components 6 compression ratio: 18.273420479302832 \n",
      "\n"
     ]
    },
    {
     "data": {
      "image/png": "[encoded data removed]",
      "text/plain": [
       "<PIL.Image.Image image mode=L size=275x183 at 0x7F8478089EF0>"
      ]
     },
     "metadata": {
      "tags": []
     },
     "output_type": "display_data"
    },
    {
     "name": "stdout",
     "output_type": "stream",
     "text": [
      "Components 7 compression ratio: 15.662931839402427 \n",
      "\n"
     ]
    },
    {
     "data": {
      "image/png": "[encoded data removed]",
      "text/plain": [
       "<PIL.Image.Image image mode=L size=275x183 at 0x7F847806E4E0>"
      ]
     },
     "metadata": {
      "tags": []
     },
     "output_type": "display_data"
    },
    {
     "name": "stdout",
     "output_type": "stream",
     "text": [
      "Components 8 compression ratio: 13.705065359477125 \n",
      "\n"
     ]
    },
    {
     "data": {
      "image/png": "[encoded data removed]",
      "text/plain": [
       "<PIL.Image.Image image mode=L size=275x183 at 0x7F847806E710>"
      ]
     },
     "metadata": {
      "tags": []
     },
     "output_type": "display_data"
    },
    {
     "name": "stdout",
     "output_type": "stream",
     "text": [
      "Components 9 compression ratio: 12.182280319535222 \n",
      "\n"
     ]
    },
    {
     "data": {
      "image/png": "[encoded data removed]",
      "text/plain": [
       "<PIL.Image.Image image mode=L size=275x183 at 0x7F847806E6D8>"
      ]
     },
     "metadata": {
      "tags": []
     },
     "output_type": "display_data"
    },
    {
     "name": "stdout",
     "output_type": "stream",
     "text": [
      "Components 10 compression ratio: 10.9640522875817 \n",
      "\n"
     ]
    },
    {
     "data": {
      "image/png": "[encoded data removed]",
      "text/plain": [
       "<PIL.Image.Image image mode=L size=275x183 at 0x7F847806E4A8>"
      ]
     },
     "metadata": {
      "tags": []
     },
     "output_type": "display_data"
    },
    {
     "name": "stdout",
     "output_type": "stream",
     "text": [
      "Components 11 compression ratio: 9.967320261437909 \n",
      "\n"
     ]
    },
    {
     "data": {
      "image/png": "[encoded data removed]",
      "text/plain": [
       "<PIL.Image.Image image mode=L size=275x183 at 0x7F847806E048>"
      ]
     },
     "metadata": {
      "tags": []
     },
     "output_type": "display_data"
    },
    {
     "name": "stdout",
     "output_type": "stream",
     "text": [
      "Components 12 compression ratio: 9.136710239651416 \n",
      "\n"
     ]
    },
    {
     "data": {
      "image/png": "[encoded data removed]",
      "text/plain": [
       "<PIL.Image.Image image mode=L size=275x183 at 0x7F847806E4E0>"
      ]
     },
     "metadata": {
      "tags": []
     },
     "output_type": "display_data"
    },
    {
     "name": "stdout",
     "output_type": "stream",
     "text": [
      "Components 13 compression ratio: 8.433886375062846 \n",
      "\n"
     ]
    },
    {
     "data": {
      "image/png": "[encoded data removed]",
      "text/plain": [
       "<PIL.Image.Image image mode=L size=275x183 at 0x7F847806E710>"
      ]
     },
     "metadata": {
      "tags": []
     },
     "output_type": "display_data"
    },
    {
     "name": "stdout",
     "output_type": "stream",
     "text": [
      "Components 14 compression ratio: 7.8314659197012135 \n",
      "\n"
     ]
    },
    {
     "data": {
      "image/png": "[encoded data removed]",
      "text/plain": [
       "<PIL.Image.Image image mode=L size=275x183 at 0x7F847806E6D8>"
      ]
     },
     "metadata": {
      "tags": []
     },
     "output_type": "display_data"
    },
    {
     "name": "stdout",
     "output_type": "stream",
     "text": [
      "Components 15 compression ratio: 7.309368191721133 \n",
      "\n"
     ]
    },
    {
     "data": {
      "image/png": "[encoded data removed]",
      "text/plain": [
       "<PIL.Image.Image image mode=L size=275x183 at 0x7F847806E4A8>"
      ]
     },
     "metadata": {
      "tags": []
     },
     "output_type": "display_data"
    }
   ],
   "source": [
    "for i in range(1,16):\n",
    "  compress_grey_scale(flag,i)"
   ]
  },
  {
   "cell_type": "code",
   "execution_count": 16,
   "metadata": {
    "colab": {
     "base_uri": "https://localhost:8080/",
     "height": 296
    },
    "colab_type": "code",
    "id": "5kjxI5vlDIwO",
    "outputId": "d090652f-17ad-4127-ae3a-4d193ce8f256"
   },
   "outputs": [
    {
     "data": {
      "text/plain": [
       "Text(0, 0.5, 'Magnitude')"
      ]
     },
     "execution_count": 16,
     "metadata": {
      "tags": []
     },
     "output_type": "execute_result"
    },
    {
     "data": {
      "image/png": "[encoded data removed]",
      "text/plain": [
       "<Figure size 432x288 with 1 Axes>"
      ]
     },
     "metadata": {
      "needs_background": "light",
      "tags": []
     },
     "output_type": "display_data"
    }
   ],
   "source": [
    "import matplotlib.pyplot as plt\n",
    "plt.plot(list(range(D.shape[0])),D)\n",
    "plt.xlabel('Diagonal')\n",
    "plt.ylabel('Magnitude')"
   ]
  },
  {
   "cell_type": "code",
   "execution_count": 17,
   "metadata": {
    "colab": {
     "base_uri": "https://localhost:8080/",
     "height": 34
    },
    "colab_type": "code",
    "id": "qXJVs3J-XwTU",
    "outputId": "67eef48b-7be9-4fe9-bb7f-8f1d9c3aab04"
   },
   "outputs": [
    {
     "name": "stdout",
     "output_type": "stream",
     "text": [
      "0.9242532892844518\n"
     ]
    }
   ],
   "source": [
    "# information preserved\n",
    "print(sum(D[:10]) / sum(D))"
   ]
  },
  {
   "cell_type": "code",
   "execution_count": 0,
   "metadata": {
    "colab": {},
    "colab_type": "code",
    "id": "2NwmwS6OYDIh"
   },
   "outputs": [],
   "source": []
  }
 ],
 "metadata": {
  "colab": {
   "name": "img_compression.ipynb",
   "provenance": []
  },
  "kernelspec": {
   "display_name": "Python 3",
   "language": "python",
   "name": "python3"
  },
  "language_info": {
   "codemirror_mode": {
    "name": "ipython",
    "version": 3
   },
   "file_extension": ".py",
   "mimetype": "text/x-python",
   "name": "python",
   "nbconvert_exporter": "python",
   "pygments_lexer": "ipython3",
   "version": "3.7.5"
  }
 },
 "nbformat": 4,
 "nbformat_minor": 1
}
