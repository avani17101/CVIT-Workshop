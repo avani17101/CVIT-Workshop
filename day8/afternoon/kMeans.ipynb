{
  "nbformat": 4,
  "nbformat_minor": 0,
  "metadata": {
    "colab": {
      "name": "kMeans.ipynb",
      "provenance": []
    },
    "kernelspec": {
      "name": "python3",
      "display_name": "Python 3"
    }
  },
  "cells": [
    {
      "cell_type": "code",
      "metadata": {
        "id": "o4xO4pF4TmKb",
        "colab_type": "code",
        "colab": {}
      },
      "source": [
        "import numpy as np\n",
        "import cv2\n",
        "import matplotlib.pyplot as plt\n",
        "from sklearn.metrics.pairwise import euclidean_distances\n",
        "from sklearn.datasets import make_circles"
      ],
      "execution_count": 0,
      "outputs": []
    },
    {
      "cell_type": "code",
      "metadata": {
        "id": "s7PJllYQYpq0",
        "colab_type": "code",
        "colab": {}
      },
      "source": [
        "def plot_clusters(points, cluster_labels, offset=0.01, show_annotation=True):\n",
        "    cluster_labels = np.array(cluster_labels)\n",
        "    un_clusters = np.unique(cluster_labels)\n",
        "    \n",
        "    points = np.array(points)\n",
        "    \n",
        "    for cluster in un_clusters:\n",
        "        plt.scatter(points[cluster_labels == cluster, 0],points[cluster_labels == cluster, 1], label=cluster)\n",
        "    \n",
        "    if show_annotation:\n",
        "        for i in range(points.shape[0]):\n",
        "            plt.annotate(i, (points[i,0]+offset, points[i,1]+offset))\n",
        "\n",
        " \n",
        "\n",
        "    plt.legend()"
      ],
      "execution_count": 0,
      "outputs": []
    },
    {
      "cell_type": "code",
      "metadata": {
        "id": "inSvRXo0UE-2",
        "colab_type": "code",
        "colab": {}
      },
      "source": [
        "np.random.seed(2)\n",
        "points = np.vstack((np.random.normal(0,0.5,size=(4,2)),np.random.normal(3,0.5,size=(4,2))))\n",
        "points = np.vstack((points, np.array([[1.5,1.5]])))\n",
        "points = np.vstack((points, np.array([[1.25,1.25]])))"
      ],
      "execution_count": 0,
      "outputs": []
    },
    {
      "cell_type": "code",
      "metadata": {
        "id": "KXzuOUGzYgT2",
        "colab_type": "code",
        "outputId": "a1169a13-6484-4aec-bf00-e8e6faeecbe5",
        "colab": {
          "base_uri": "https://localhost:8080/",
          "height": 265
        }
      },
      "source": [
        "cluster_labels = np.zeros((10))\n",
        "offset = 0.05\n",
        "\n",
        "plot_clusters(points, cluster_labels)\n",
        "plt.show()"
      ],
      "execution_count": 4,
      "outputs": [
        {
          "output_type": "display_data",
          "data": {
            "image/png": "[encoded data removed]",
            "text/plain": [
              "<Figure size 432x288 with 1 Axes>"
            ]
          },
          "metadata": {
            "tags": [],
            "needs_background": "light"
          }
        }
      ]
    },
    {
      "cell_type": "code",
      "metadata": {
        "id": "mSObK76sZfHK",
        "colab_type": "code",
        "outputId": "d5291690-c3d2-4e52-98eb-177afbfd16eb",
        "colab": {
          "base_uri": "https://localhost:8080/",
          "height": 265
        }
      },
      "source": [
        "cluster_labels2 = np.array([0,0,0,0,2,2,2,2,1,1])\n",
        "offset = 0.05\n",
        "\n",
        "plot_clusters(points, cluster_labels2)\n",
        "plt.show()"
      ],
      "execution_count": 5,
      "outputs": [
        {
          "output_type": "display_data",
          "data": {
            "image/png": "[encoded data removed]",
            "text/plain": [
              "<Figure size 432x288 with 1 Axes>"
            ]
          },
          "metadata": {
            "tags": [],
            "needs_background": "light"
          }
        }
      ]
    },
    {
      "cell_type": "code",
      "metadata": {
        "id": "nn9PN46xZ6pS",
        "colab_type": "code",
        "colab": {}
      },
      "source": [
        "def heatmap(grid, xlabels, ylabels, xrot=90):   \n",
        "    cmap = cm.get_cmap(\"viridis\")\n",
        "    plt.imshow(grid, cmap=cmap)\n",
        "    plt.xticks(np.arange(0,grid.shape[1],step=1), xlabels, rotation=xrot)\n",
        "    plt.yticks(np.arange(0, grid.shape[0], step=1), ylabels)"
      ],
      "execution_count": 0,
      "outputs": []
    },
    {
      "cell_type": "markdown",
      "metadata": {
        "id": "VROL56_YGPT-",
        "colab_type": "text"
      },
      "source": [
        "Task1: ​ Run the kmeans multiple times and see if averaging the cluster centers across runs\n",
        "helps to reduce dependency on initialisation. Here the assumption is that good clustering is\n",
        "more likely than bad one. Dataset: The 5 clusters"
      ]
    },
    {
      "cell_type": "markdown",
      "metadata": {
        "id": "LKbUPArWgmK0",
        "colab_type": "text"
      },
      "source": [
        "#K Means"
      ]
    },
    {
      "cell_type": "code",
      "metadata": {
        "id": "NnsuM3D5FLvJ",
        "colab_type": "code",
        "colab": {}
      },
      "source": [
        "class kMeans:\n",
        "\n",
        "  def __init__(self,  points, k, center_points = []):\n",
        "    self.k = k\n",
        "    self.points = points\n",
        "    self.init_centers(center_points)\n",
        "\n",
        "  def init_centers(self, center_points):\n",
        "    if len(center_points) == 0:\n",
        "      self.center_points =  self.points[np.random.choice(len(self.points), self.k, replace = False)]\n",
        "      return self.center_points\n",
        "      \n",
        "    self.center_points = center_points\n",
        "    return self.center_points \n",
        "\n",
        "  def recalculate_cluster_center_points(self):\n",
        "    center_points = np.zeros((self.k,2))\n",
        "    for i in range(self.k):\n",
        "      kth_cluster = self.points[self.classes == i]\n",
        "      center_points[i] = kth_cluster.mean(axis = 0)\n",
        "    self.center_points = center_points\n",
        "    return center_points\n",
        "\n",
        "  def assign(self):\n",
        "    d = euclidean_distances(self.points, self.center_points)\n",
        "    self.classes = np.argmin(d, axis = 1)\n",
        "    return self.classes\n",
        "  \n",
        "  def fit(self):\n",
        "    initial_center_points = self.center_points.copy()\n",
        "    prev_center_points = np.zeros(self.center_points.shape)\n",
        "\n",
        "    while not (prev_center_points == self.center_points).all():\n",
        "      prev_center_points = self.center_points.copy()\n",
        "      self.assign()\n",
        "      self.recalculate_cluster_center_points()\n",
        "    return self.classes"
      ],
      "execution_count": 0,
      "outputs": []
    },
    {
      "cell_type": "code",
      "metadata": {
        "id": "gWnhT832FaXd",
        "colab_type": "code",
        "colab": {
          "base_uri": "https://localhost:8080/",
          "height": 265
        },
        "outputId": "8c44f168-bd22-4c6a-f9f6-6d391dee479c"
      },
      "source": [
        "np.random.seed(2)\n",
        "K = 5\n",
        "X = []\n",
        "for i in range(5):\n",
        "    X.append(np.random.normal(2**i,(i+1)/5, size=(20,2)))\n",
        "points = np.vstack(X)\n",
        "plot_clusters(points, np.zeros((points.shape[0])), show_annotation=False)\n",
        "\n",
        "kmeans = kMeans(points, 5)\n",
        "labels = kmeans.fit()\n",
        "plot_clusters(points, labels, show_annotation=False)"
      ],
      "execution_count": 9,
      "outputs": [
        {
          "output_type": "display_data",
          "data": {
            "image/png": "[encoded data removed]",
            "text/plain": [
              "<Figure size 432x288 with 1 Axes>"
            ]
          },
          "metadata": {
            "tags": [],
            "needs_background": "light"
          }
        }
      ]
    },
    {
      "cell_type": "markdown",
      "metadata": {
        "id": "bY2-oBf6TPsj",
        "colab_type": "text"
      },
      "source": [
        "Task2:​ Run the algorithm on concentric circles dataset in r-theta space or some other space\n",
        "you like."
      ]
    },
    {
      "cell_type": "code",
      "metadata": {
        "id": "qBC7qYNYTN61",
        "colab_type": "code",
        "colab": {
          "base_uri": "https://localhost:8080/",
          "height": 265
        },
        "outputId": "2ed6fddf-1dd0-46b8-85b1-4db0a2fd91f1"
      },
      "source": [
        "points, b = make_circles(100, noise=0.06, factor=0.5)\n",
        "kmeans = kMeans(points**2, 2)\n",
        "labels = kmeans.fit()\n",
        "plot_clusters(points, labels, show_annotation = False)"
      ],
      "execution_count": 11,
      "outputs": [
        {
          "output_type": "display_data",
          "data": {
            "image/png": "[encoded data removed]",
            "text/plain": [
              "<Figure size 432x288 with 1 Axes>"
            ]
          },
          "metadata": {
            "tags": [],
            "needs_background": "light"
          }
        }
      ]
    }
  ]
}