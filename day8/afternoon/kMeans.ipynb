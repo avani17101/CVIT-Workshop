{
 "cells": [
  {
   "cell_type": "code",
   "execution_count": 1,
   "metadata": {
    "colab": {},
    "colab_type": "code",
    "id": "o4xO4pF4TmKb"
   },
   "outputs": [],
   "source": [
    "import cv2\n",
    "import numpy as np\n",
    "import matplotlib.pyplot as plt\n",
    "import matplotlib.cm as cm\n",
    "from sklearn.metrics.pairwise import euclidean_distances\n",
    "from sklearn.datasets import make_circles\n",
    "from sklearn.cluster import KMeans"
   ]
  },
  {
   "cell_type": "code",
   "execution_count": 2,
   "metadata": {
    "colab": {},
    "colab_type": "code",
    "id": "s7PJllYQYpq0"
   },
   "outputs": [],
   "source": [
    "def plot_clusters(points, cluster_labels, offset=0.01, show_annotation=True):\n",
    "    cluster_labels = np.array(cluster_labels)\n",
    "    un_clusters = np.unique(cluster_labels)\n",
    "    \n",
    "    points = np.array(points)\n",
    "    \n",
    "    for cluster in un_clusters:\n",
    "        plt.scatter(points[cluster_labels == cluster, 0],points[cluster_labels == cluster, 1], label=cluster)\n",
    "    \n",
    "    if show_annotation:\n",
    "        for i in range(points.shape[0]):\n",
    "            plt.annotate(i, (points[i,0]+offset, points[i,1]+offset))\n",
    "\n",
    " \n",
    "\n",
    "    plt.legend()"
   ]
  },
  {
   "cell_type": "code",
   "execution_count": 3,
   "metadata": {
    "colab": {},
    "colab_type": "code",
    "id": "inSvRXo0UE-2"
   },
   "outputs": [],
   "source": [
    "np.random.seed(2)\n",
    "points = np.vstack((np.random.normal(0,0.5,size=(4,2)),np.random.normal(3,0.5,size=(4,2))))\n",
    "points = np.vstack((points, np.array([[1.5,1.5]])))\n",
    "points = np.vstack((points, np.array([[1.25,1.25]])))"
   ]
  },
  {
   "cell_type": "code",
   "execution_count": 4,
   "metadata": {
    "colab": {
     "base_uri": "https://localhost:8080/",
     "height": 265
    },
    "colab_type": "code",
    "id": "KXzuOUGzYgT2",
    "outputId": "a1169a13-6484-4aec-bf00-e8e6faeecbe5"
   },
   "outputs": [
    {
     "data": {
      "image/png": "[encoded data removed]",
      "text/plain": [
       "<Figure size 432x288 with 1 Axes>"
      ]
     },
     "metadata": {
      "needs_background": "light"
     },
     "output_type": "display_data"
    }
   ],
   "source": [
    "cluster_labels = np.zeros((10))\n",
    "offset = 0.05\n",
    "\n",
    "plot_clusters(points, cluster_labels)\n",
    "plt.show()"
   ]
  },
  {
   "cell_type": "code",
   "execution_count": 5,
   "metadata": {
    "colab": {
     "base_uri": "https://localhost:8080/",
     "height": 265
    },
    "colab_type": "code",
    "id": "mSObK76sZfHK",
    "outputId": "d5291690-c3d2-4e52-98eb-177afbfd16eb"
   },
   "outputs": [
    {
     "data": {
      "image/png": "[encoded data removed]",
      "text/plain": [
       "<Figure size 432x288 with 1 Axes>"
      ]
     },
     "metadata": {
      "needs_background": "light"
     },
     "output_type": "display_data"
    }
   ],
   "source": [
    "cluster_labels2 = np.array([0,0,0,0,2,2,2,2,1,1])\n",
    "offset = 0.05\n",
    "\n",
    "plot_clusters(points, cluster_labels2)\n",
    "plt.show()"
   ]
  },
  {
   "cell_type": "code",
   "execution_count": 6,
   "metadata": {
    "colab": {},
    "colab_type": "code",
    "id": "nn9PN46xZ6pS"
   },
   "outputs": [],
   "source": [
    "def heatmap(grid, xlabels, ylabels, xrot=90):   \n",
    "    cmap = cm.get_cmap(\"viridis\")\n",
    "    plt.imshow(grid, cmap=cmap)\n",
    "    plt.xticks(np.arange(0,grid.shape[1],step=1), xlabels, rotation=xrot)\n",
    "    plt.yticks(np.arange(0, grid.shape[0], step=1), ylabels)"
   ]
  },
  {
   "cell_type": "code",
   "execution_count": 7,
   "metadata": {},
   "outputs": [
    {
     "data": {
      "image/png": "[encoded data removed]",
      "text/plain": [
       "<Figure size 432x288 with 1 Axes>"
      ]
     },
     "metadata": {
      "needs_background": "light"
     },
     "output_type": "display_data"
    }
   ],
   "source": [
    "grid = euclidean_distances(points,points)\n",
    "grid = (grid-grid.min(axis=1)[:,None])/(grid.max(axis=1)[:,None]-grid.min(axis=1)[:,None])\n",
    "xlabels = np.arange(0,points.shape[0])\n",
    "ylabels=np.arange(0,points.shape[0])\n",
    "heatmap(grid,xlabels,ylabels,xrot=0)"
   ]
  },
  {
   "cell_type": "markdown",
   "metadata": {
    "colab_type": "text",
    "id": "VROL56_YGPT-"
   },
   "source": [
    "Task1: ​ Run the kmeans multiple times and see if averaging the cluster centers across runs\n",
    "helps to reduce dependency on initialisation. Here the assumption is that good clustering is\n",
    "more likely than bad one. Dataset: The 5 clusters"
   ]
  },
  {
   "cell_type": "markdown",
   "metadata": {
    "colab_type": "text",
    "id": "LKbUPArWgmK0"
   },
   "source": [
    "#K Means"
   ]
  },
  {
   "cell_type": "code",
   "execution_count": 8,
   "metadata": {
    "colab": {},
    "colab_type": "code",
    "id": "NnsuM3D5FLvJ"
   },
   "outputs": [],
   "source": [
    "class kMeans:\n",
    "\n",
    "  def __init__(self,  points, k, center_points = []):\n",
    "    self.k = k\n",
    "    self.points = points\n",
    "    self.clasess=0\n",
    "    self.init_centers(center_points)\n",
    "\n",
    "  def init_centers(self, center_points):\n",
    "    if len(center_points) == 0:\n",
    "      self.center_points =  self.points[np.random.choice(len(self.points), self.k, replace = False)]\n",
    "      return self.center_points\n",
    "    else:  \n",
    "        self.center_points = center_points\n",
    "        return self.center_points \n",
    "\n",
    "  def recalculate_cluster_center_points(self):\n",
    "    center_points = np.zeros((self.k,2))\n",
    "    for i in range(self.k):\n",
    "      kth_cluster = self.points[self.classes == i]\n",
    "      center_points[i] = kth_cluster.mean(axis = 0)\n",
    "    self.center_points = center_points\n",
    "    return center_points\n",
    "\n",
    "  def assign(self):\n",
    "    d = euclidean_distances(self.points, self.center_points)\n",
    "    self.classes = np.argmin(d, axis = 1)\n",
    "    return self.classes\n",
    "  \n",
    "  def fit(self):\n",
    "    initial_center_points = self.center_points.copy()\n",
    "    prev_center_points = np.zeros(self.center_points.shape)\n",
    "\n",
    "    while not (prev_center_points == self.center_points).all():\n",
    "      prev_center_points = self.center_points.copy()\n",
    "      self.assign()\n",
    "      self.recalculate_cluster_center_points()\n",
    "#     print(self.classes)\n",
    "    return self.classes"
   ]
  },
  {
   "cell_type": "code",
   "execution_count": 9,
   "metadata": {
    "colab": {
     "base_uri": "https://localhost:8080/",
     "height": 265
    },
    "colab_type": "code",
    "id": "gWnhT832FaXd",
    "outputId": "8c44f168-bd22-4c6a-f9f6-6d391dee479c"
   },
   "outputs": [
    {
     "data": {
      "image/png": "[encoded data removed]",
      "text/plain": [
       "<Figure size 432x288 with 1 Axes>"
      ]
     },
     "metadata": {
      "needs_background": "light"
     },
     "output_type": "display_data"
    }
   ],
   "source": [
    "np.random.seed(2)\n",
    "K = 5\n",
    "X = []\n",
    "for i in range(5):\n",
    "    X.append(np.random.normal(2**i,(i+1)/5, size=(20,2)))\n",
    "points = np.vstack(X)\n",
    "plot_clusters(points, np.zeros((points.shape[0])), show_annotation=False)\n",
    "\n",
    "kmeans = kMeans(points, 5)\n",
    "labels = kmeans.fit()\n",
    "plot_clusters(points, labels, show_annotation=False)"
   ]
  },
  {
   "cell_type": "code",
   "execution_count": 10,
   "metadata": {},
   "outputs": [
    {
     "data": {
      "image/png": "[encoded data removed]",
      "text/plain": [
       "<Figure size 432x288 with 1 Axes>"
      ]
     },
     "metadata": {
      "needs_background": "light"
     },
     "output_type": "display_data"
    }
   ],
   "source": [
    "\n",
    "kmeans = kMeans(points,2)\n",
    "labels = kmeans.fit()\n",
    "plot_clusters(points, labels, show_annotation=False)"
   ]
  },
  {
   "cell_type": "code",
   "execution_count": 11,
   "metadata": {},
   "outputs": [
    {
     "data": {
      "image/png": "[encoded data removed]",
      "text/plain": [
       "<Figure size 432x288 with 1 Axes>"
      ]
     },
     "metadata": {
      "needs_background": "light"
     },
     "output_type": "display_data"
    }
   ],
   "source": [
    "\n",
    "kmeans = kMeans(points,8)\n",
    "labels = kmeans.fit()\n",
    "plot_clusters(points, labels, show_annotation=False)"
   ]
  },
  {
   "cell_type": "markdown",
   "metadata": {
    "colab_type": "text",
    "id": "bY2-oBf6TPsj"
   },
   "source": [
    "Task2:​ Run the algorithm on concentric circles dataset in r-theta space or some other space\n",
    "you like."
   ]
  },
  {
   "cell_type": "code",
   "execution_count": 12,
   "metadata": {
    "colab": {
     "base_uri": "https://localhost:8080/",
     "height": 265
    },
    "colab_type": "code",
    "id": "qBC7qYNYTN61",
    "outputId": "2ed6fddf-1dd0-46b8-85b1-4db0a2fd91f1"
   },
   "outputs": [
    {
     "data": {
      "image/png": "[encoded data removed]",
      "text/plain": [
       "<Figure size 432x288 with 1 Axes>"
      ]
     },
     "metadata": {
      "needs_background": "light"
     },
     "output_type": "display_data"
    }
   ],
   "source": [
    "points, b = make_circles(100, noise=0.06, factor=0.5)\n",
    "kmeans = kMeans(points**2, 2)\n",
    "labels = kmeans.fit()\n",
    "plot_clusters(points, labels, show_annotation = False)"
   ]
  },
  {
   "cell_type": "code",
   "execution_count": 13,
   "metadata": {},
   "outputs": [
    {
     "data": {
      "text/plain": [
       "<matplotlib.collections.PathCollection at 0x7f3e12085b90>"
      ]
     },
     "execution_count": 13,
     "metadata": {},
     "output_type": "execute_result"
    },
    {
     "data": {
      "image/png": "[encoded data removed]",
      "text/plain": [
       "<Figure size 432x288 with 1 Axes>"
      ]
     },
     "metadata": {
      "needs_background": "light"
     },
     "output_type": "display_data"
    }
   ],
   "source": [
    "\n",
    "#convert to r,theta and use kmeans\n",
    "points, _ = make_circles(100, noise=0.06, factor=0.5)\n",
    "K=2\n",
    "eq = np.sqrt(points[:,0]**2+points[:,1]**2)\n",
    "tan = np.arctan2(points[:,1],points[:,0])\n",
    "npoints=np.zeros((points.shape[0],2))\n",
    "for i in range(points.shape[0]):\n",
    "  npoints[i][1]=float(eq[i]/1.1)\n",
    "  npoints[i][0]=float((-tan[i]+3.14)/(2*3.14))\n",
    "points=npoints\n",
    "plt.scatter(points[:,0], points[:,1])"
   ]
  },
  {
   "cell_type": "code",
   "execution_count": 14,
   "metadata": {},
   "outputs": [],
   "source": [
    "from os import listdir\n",
    "from os.path import isfile, join\n",
    "path = 'Final Dataset/'\n",
    "files = [f for f in listdir(path) if isfile(join(path, f))]"
   ]
  },
  {
   "cell_type": "code",
   "execution_count": 15,
   "metadata": {},
   "outputs": [
    {
     "name": "stdout",
     "output_type": "stream",
     "text": [
      "['final_tanmay.json', 'final_varun.json', 'final_ayan.json', 'final_dolton.json', 'final_abhishek.json', 'final_avani.json', 'final_aryamaan.json', 'final_akshat.json', 'final_aman.json', 'final_kalyan.json', 'final_tirth.json', 'final_ammar.json', 'final_yoogottamk.json', 'final_george.json', 'final_shashank.json']\n"
     ]
    }
   ],
   "source": [
    "print(files)"
   ]
  },
  {
   "cell_type": "code",
   "execution_count": 16,
   "metadata": {},
   "outputs": [],
   "source": [
    "import json\n",
    "names = []\n",
    "gen_freq = []\n",
    "datas = []\n",
    "for i,file in enumerate(files):\n",
    "    f = open(path+file,'r') \n",
    "    data  = json.load(f)\n",
    "    datas.append(data)\n",
    "    f.close()\n",
    "    names.append(data['username'])\n",
    "    gen_freq.append(data['genre_freq_divided'])  "
   ]
  },
  {
   "cell_type": "code",
   "execution_count": 17,
   "metadata": {},
   "outputs": [],
   "source": [
    "freq =np.zeros((1,20))\n",
    "for i in range(15):\n",
    "    fe = np.array(list(datas[i]['genre_freq_divided'].values()))\n",
    "    fe =np.expand_dims(fe,axis=0)\n",
    "    freq =np.vstack([freq,fe])\n",
    "freq=freq[1:freq.shape[0],:]\n",
    "\n",
    "kmeans=KMeans(n_clusters=3, random_state=0).fit(freq)"
   ]
  },
  {
   "cell_type": "code",
   "execution_count": 18,
   "metadata": {},
   "outputs": [
    {
     "name": "stdout",
     "output_type": "stream",
     "text": [
      "[2 0 2 2 0 0 2 1 0 0 0 0 2 0 2]\n"
     ]
    }
   ],
   "source": [
    "print(kmeans.labels_)\n",
    "klabels = np.array(kmeans.labels_)\n"
   ]
  },
  {
   "cell_type": "code",
   "execution_count": 19,
   "metadata": {},
   "outputs": [
    {
     "name": "stdout",
     "output_type": "stream",
     "text": [
      "(15,) (15,)\n"
     ]
    }
   ],
   "source": [
    "names = np.array(names)\n",
    "print(names.shape,klabels.shape)\n"
   ]
  },
  {
   "cell_type": "code",
   "execution_count": 20,
   "metadata": {},
   "outputs": [
    {
     "data": {
      "text/plain": [
       "array([['2', 'Sai Tanmay'],\n",
       "       ['0', 'varun'],\n",
       "       ['2', 'Ayan'],\n",
       "       ['2', 'dolton'],\n",
       "       ['0', 'abhishek'],\n",
       "       ['0', 'Avani'],\n",
       "       ['2', 'aryamaan'],\n",
       "       ['1', 'Akshat'],\n",
       "       ['0', 'Aman'],\n",
       "       ['0', 'Kalyan'],\n",
       "       ['0', 'ttirth'],\n",
       "       ['0', 'Ammar'],\n",
       "       ['2', 'yoogottamk'],\n",
       "       ['0', 'George'],\n",
       "       ['2', 'Sai Shashank']], dtype='<U12')"
      ]
     },
     "execution_count": 20,
     "metadata": {},
     "output_type": "execute_result"
    }
   ],
   "source": [
    "np.stack((klabels, names), axis=-1)  #clusters of corresponding names "
   ]
  }
 ],
 "metadata": {
  "colab": {
   "name": "kMeans.ipynb",
   "provenance": []
  },
  "kernelspec": {
   "display_name": "Python 3",
   "language": "python",
   "name": "python3"
  },
  "language_info": {
   "codemirror_mode": {
    "name": "ipython",
    "version": 3
   },
   "file_extension": ".py",
   "mimetype": "text/x-python",
   "name": "python",
   "nbconvert_exporter": "python",
   "pygments_lexer": "ipython3",
   "version": "3.7.5"
  }
 },
 "nbformat": 4,
 "nbformat_minor": 1
}
