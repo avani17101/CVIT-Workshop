{
 "cells": [
  {
   "cell_type": "code",
   "execution_count": 1,
   "metadata": {},
   "outputs": [],
   "source": [
    "import cv2\n",
    "import numpy as np\n",
    "import matplotlib.pyplot as plt\n",
    "from skimage import io\n",
    "from skimage import morphology as morp"
   ]
  },
  {
   "cell_type": "markdown",
   "metadata": {},
   "source": [
    "### Ex: Coins at the boundary"
   ]
  },
  {
   "cell_type": "code",
   "execution_count": 2,
   "metadata": {},
   "outputs": [],
   "source": [
    "img1 = cv2.imread('coins.jpg', cv2.IMREAD_GRAYSCALE)\n",
    "kernel = morp.disk(9,dtype='uint8')\n",
    "erosion1 = cv2.erode(img1,kernel,iterations = 1)\n",
    "erosion1[10:erosion1.shape[0]-10, 10:erosion1.shape[1]-10]=0\n",
    "final= cv2.dilate(erosion1, kernel)\n",
    "# cv2.imshow(\"yolo\", np.hstack([img1, erosion1, final]))\n",
    "# cv2.waitKey(0)\n",
    "# cv2.destroyAllWindows()\n"
   ]
  },
  {
   "cell_type": "markdown",
   "metadata": {},
   "source": [
    "### Ex: Non Overlapping Coins"
   ]
  },
  {
   "cell_type": "code",
   "execution_count": null,
   "metadata": {},
   "outputs": [
    {
     "name": "stdout",
     "output_type": "stream",
     "text": [
      "<class 'numpy.ndarray'>\n",
      "[[255 255 255 255 255 255 255 255 255 255 255 255 255 255 255 255 255 255\n",
      "  255]\n",
      " [255 255 255 255 255 255 255 255 255 255 255 255 255 255 255 255 255 255\n",
      "  255]\n",
      " [255 255 255 255 255 255 255 255 255 255 255 255 255 255 255 255 255 255\n",
      "  255]\n",
      " [255 255 255 255 255 255 255 255 255 255 255 255 255 255 255 255 255 255\n",
      "  255]\n",
      " [255 255 255 255 255 255 255 255 255 255 255 255 255 255 255 255 255 255\n",
      "  255]\n",
      " [255 255 255 255 255 255 255 255 255 255 255 255 255 255 255 255 255 255\n",
      "  255]\n",
      " [255 255 255 255 255 255 255 255 255 255 255 255 255 255 255 255 255 255\n",
      "  255]\n",
      " [255 255 255 255 255 255 255 255 255 255 255 255 255 255 255 255 255 255\n",
      "  255]\n",
      " [255 255 255 255 255 255 255 255 255 255 255 255 255 255 255 255 255 255\n",
      "  255]\n",
      " [255 255 255 255 255 255 255 255 255   1 255 255 255 255 255 255 255 255\n",
      "  255]\n",
      " [255 255 255 255 255 255 255 255 255 255 255 255 255 255 255 255 255 255\n",
      "  255]\n",
      " [255 255 255 255 255 255 255 255 255 255 255 255 255 255 255 255 255 255\n",
      "  255]\n",
      " [255 255 255 255 255 255 255 255 255 255 255 255 255 255 255 255 255 255\n",
      "  255]\n",
      " [255 255 255 255 255 255 255 255 255 255 255 255 255 255 255 255 255 255\n",
      "  255]\n",
      " [255 255 255 255 255 255 255 255 255 255 255 255 255 255 255 255 255 255\n",
      "  255]\n",
      " [255 255 255 255 255 255 255 255 255 255 255 255 255 255 255 255 255 255\n",
      "  255]\n",
      " [255 255 255 255 255 255 255 255 255 255 255 255 255 255 255 255 255 255\n",
      "  255]\n",
      " [255 255 255 255 255 255 255 255 255 255 255 255 255 255 255 255 255 255\n",
      "  255]\n",
      " [255 255 255 255 255 255 255 255 255 255 255 255 255 255 255 255 255 255\n",
      "  255]]\n"
     ]
    }
   ],
   "source": [
    "img2 = cv2.imread('coins.jpg', cv2.IMREAD_GRAYSCALE)\n",
    "kernel = morp.disk(9,dtype='uint8')\n",
    "kernel2 = morp.square(19, dtype='uint8')\n",
    "print(type(kernel))\n",
    "for i in range(0, kernel2.shape[0]):\n",
    "    for j in range(0, kernel2.shape[1]):\n",
    "        if kernel2[i, j] == 1:\n",
    "            kernel2[i, j]=-1\n",
    "kernel2[9, 9]=1\n",
    "print(kernel2)\n",
    "erosion1 = cv2.erode(img2,kernel,iterations = 1)\n",
    "\n",
    "nonOverlap = cv2.morphologyEx(erosion1, cv2.MORPH_HITMISS, kernel2)\n",
    "dilate1 = cv2.dilate(nonOverlap,kernel,iterations = 1)\n",
    "cv2.imshow(\"lam\", np.hstack([nonOverlap, dilate1]))\n",
    "cv2.waitKey(0)\n",
    "cv2.destroyAllWindows()\n"
   ]
  },
  {
   "cell_type": "markdown",
   "metadata": {},
   "source": [
    "### Overlapping Coins"
   ]
  },
  {
   "cell_type": "markdown",
   "metadata": {},
   "source": [
    "### objects.png "
   ]
  },
  {
   "cell_type": "markdown",
   "metadata": {},
   "source": [
    "### Text2.png "
   ]
  },
  {
   "cell_type": "code",
   "execution_count": null,
   "metadata": {
    "scrolled": true
   },
   "outputs": [],
   "source": [
    "img31 = cv2.imread('red_text.png', cv2.IMREAD_GRAYSCALE)\n",
    "img32 = cv2.imread('blue_text.png', cv2.IMREAD_GRAYSCALE)\n",
    "img33 = cv2.imread('green_text.png', cv2.IMREAD_GRAYSCALE)\n",
    "img34 = cv2.imread('black_text.png', cv2.IMREAD_GRAYSCALE)\n",
    "img35 = cv2.imread('purple_text.png', cv2.IMREAD_GRAYSCALE)\n",
    "ret,thresh1 = cv2.threshold(img31,127,255,cv2.THRESH_BINARY_INV)\n",
    "ret,thresh2 = cv2.threshold(img32,127,255,cv2.THRESH_BINARY_INV)\n",
    "ret,thresh3 = cv2.threshold(img33,127,255,cv2.THRESH_BINARY_INV)\n",
    "ret,thresh4 = cv2.threshold(img34,127,255,cv2.THRESH_BINARY_INV)\n",
    "ret,thresh5 = cv2.threshold(img35,127,255,cv2.THRESH_BINARY_INV)\n",
    "num_labels1, labels_im1 = cv2.connectedComponents(thresh1)\n",
    "num_labels2, labels_im2 = cv2.connectedComponents(thresh2)\n",
    "num_labels3, labels_im3 = cv2.connectedComponents(thresh3)\n",
    "num_labels4, labels_im4 = cv2.connectedComponents(thresh4)\n",
    "num_labels5, labels_im5 = cv2.connectedComponents(thresh5)\n",
    "plt.imshow(labels_im1)\n",
    "print(num_labels1)\n",
    "print(num_labels2)\n",
    "print(num_labels3)\n",
    "print(num_labels4)\n",
    "print(num_labels5)\n"
   ]
  },
  {
   "cell_type": "markdown",
   "metadata": {},
   "source": [
    "### Chroma Keying"
   ]
  },
  {
   "cell_type": "code",
   "execution_count": null,
   "metadata": {},
   "outputs": [],
   "source": [
    "img5 = cv2.imread('chroma_key.jpg', cv2.IMREAD_UNCHANGED)\n",
    "img6 = cv2.imread('stadium.jpg', cv2.IMREAD_UNCHANGED)\n",
    "img5 = cv2.cvtColor(img5, cv2.COLOR_BGR2RGB)\n",
    "img6 = cv2.cvtColor(img6, cv2.COLOR_BGR2RGB)\n",
    "array = np.array([-2, -1, 0, 1, 2])\n",
    "green = np.array([17, 255, 35])\n",
    "bigBroArray=[]\n",
    "for i in range(len(array)):\n",
    "    for j in range(len(array)):\n",
    "        for k in range(len(array)):\n",
    "                bigBroArray.append([green[2]+array[i],green[2]+array[j], green[2]+array[k]])\n",
    "bigBroArray = np.asarray(bigBroArray)\n",
    "# print(img5)\n",
    "# print(img6.shape)\n",
    "for i in range(img5.shape[0]):\n",
    "    for j in range(img5.shape[1]):\n",
    "        if (img5[i, j] in bigBroArray):\n",
    "            img5[i, j] = img6[i, j]\n",
    "plt.imshow( np.hstack([img6, img5]))\n",
    "            \n"
   ]
  },
  {
   "cell_type": "markdown",
   "metadata": {},
   "source": [
    "### Affine Tranformations"
   ]
  },
  {
   "cell_type": "code",
   "execution_count": null,
   "metadata": {
    "scrolled": true
   },
   "outputs": [],
   "source": [
    "img7=cv2.imread('boy_smiling.jpg', cv2.IMREAD_UNCHANGED)\n",
    "img7 = cv2.cvtColor(img7, cv2.COLOR_BGR2RGB)\n",
    "height, width, channels = img7.shape\n",
    "tX = height/4\n",
    "tY = height/5\n",
    "T= np.float32([[1, 0, tX], [0, 1, tY]])\n",
    "imgTranslate = cv2.warpAffine(img7, T, (width+100, height+100))\n",
    "fig, (ax1, ax2) = plt.subplots(1, 2, figsize=[10, 10])\n",
    "ax1.imshow(img7)\n",
    "ax2.imshow(imgTranslate)\n",
    "plt.show()"
   ]
  },
  {
   "cell_type": "markdown",
   "metadata": {},
   "source": [
    "### Face Alignment"
   ]
  },
  {
   "cell_type": "code",
   "execution_count": null,
   "metadata": {
    "scrolled": true
   },
   "outputs": [],
   "source": [
    "img9 = cv2.imread('aligned_face.jpg', cv2.IMREAD_UNCHANGED)\n",
    "img9 = cv2.cvtColor(img9, cv2.COLOR_BGR2RGB)\n",
    "left_eye = np.asarray([341, 325])\n",
    "right_eye = np.asarray([423, 325])\n",
    "leftH = np.asarray([346, 804])\n",
    "rightH = np.asarray([805, 349])\n",
    "horVec=rightH-leftH\n",
    "eyeVec =left_eye-right_eye\n",
    "eyeVec = (eyeVec)/np.sqrt(eyeVec[0]*eyeVec[0]+eyeVec[1]*eyeVec[1])\n",
    "print(eyeVec)\n",
    "horVec=(horVec)/np.sqrt(horVec[0]*horVec[0]+horVec[1]*horVec[1])\n",
    "print(horVec)\n",
    "costheta=np.dot(eyeVec, horVec)\n",
    "print(costheta)\n",
    "angleinRad=np.arccos(costheta)\n",
    "angleindeg = angleinRad*(180/np.pi)\n",
    "M1=cv2.getRotationMatrix2D((img9.shape[1]/2, img9.shape[0]/2), 180+angleindeg, 1)\n",
    "im_rot = cv2.warpAffine(img9, M1, (width+500, height+500))\n",
    "fig, (ax1, ax2) = plt.subplots(1, 2, figsize=[10, 10])\n",
    "ax1.imshow(img9)\n",
    "ax2.imshow(im_rot)\n",
    "plt.show()\n",
    "# cv2.imshow(\"yolo\", img9)\n",
    "# cv2.waitKey(0)\n",
    "# cv2.destroyAllWindows()"
   ]
  },
  {
   "cell_type": "markdown",
   "metadata": {},
   "source": [
    "### Perspective Transformation"
   ]
  },
  {
   "cell_type": "code",
   "execution_count": null,
   "metadata": {},
   "outputs": [],
   "source": [
    "### Homography\n",
    "img10 = cv2.imread('coca.jpg', cv2.IMREAD_UNCHANGED)\n",
    "img10 = cv2.cvtColor(img10, cv2.COLOR_BGR2RGB)\n",
    "img11 = cv2.imread('stadium.jpg', cv2.IMREAD_UNCHANGED)\n",
    "img11 = cv2.cvtColor(img11, cv2.COLOR_BGR2RGB)\n",
    "pts1 = np.float32([[0,0],[0,179],[320, 0],[320,179]]) # cola coords \n",
    "pts2 = np.float32([[700,170],[450, 220],[1250, 190],[950, 320]])# stadium coords\n",
    "M, status = cv2.findHomography(pts1, pts2)\n",
    "coke_cgd = cv2.warpPerspective(img10, M, (img11.shape[1], img11.shape[0]))\n",
    "final=cv2.add(img11,coke_cgd)\n",
    "fig, (ax1, ax2) = plt.subplots(1, 2, figsize=[10, 10])\n",
    "ax1.imshow(coke_cgd)\n",
    "ax2.imshow(final)\n",
    "plt.show()"
   ]
  }
 ],
 "metadata": {
  "kernelspec": {
   "display_name": "Python 3",
   "language": "python",
   "name": "python3"
  },
  "language_info": {
   "codemirror_mode": {
    "name": "ipython",
    "version": 3
   },
   "file_extension": ".py",
   "mimetype": "text/x-python",
   "name": "python",
   "nbconvert_exporter": "python",
   "pygments_lexer": "ipython3",
   "version": "3.7.5"
  }
 },
 "nbformat": 4,
 "nbformat_minor": 2
}
