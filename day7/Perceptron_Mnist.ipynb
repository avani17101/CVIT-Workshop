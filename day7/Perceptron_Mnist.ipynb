{
  "nbformat": 4,
  "nbformat_minor": 0,
  "metadata": {
    "colab": {
      "name": "Copy of Perceptron Mnist.ipynb",
      "provenance": []
    },
    "kernelspec": {
      "name": "python3",
      "display_name": "Python 3"
    }
  },
  "cells": [
    {
      "cell_type": "code",
      "metadata": {
        "id": "oOiMc9Jlf1Uu",
        "colab_type": "code",
        "colab": {}
      },
      "source": [
        "from keras.datasets import mnist\n",
        "\n",
        "(x_train, y_train), (x_test, y_test) = mnist.load_data()"
      ],
      "execution_count": 0,
      "outputs": []
    },
    {
      "cell_type": "code",
      "metadata": {
        "id": "0pd1iaB3hbXp",
        "colab_type": "code",
        "colab": {}
      },
      "source": [
        "import numpy as np"
      ],
      "execution_count": 0,
      "outputs": []
    },
    {
      "cell_type": "code",
      "metadata": {
        "id": "gwiP3YLzgmKl",
        "colab_type": "code",
        "outputId": "17a21089-6777-497f-d582-3897fae0984f",
        "colab": {
          "base_uri": "https://localhost:8080/",
          "height": 51
        }
      },
      "source": [
        "print(\"Training data shape: \", x_train.shape) # (60000, 28, 28) -- 60000 images, each 28x28 pixels\n",
        "print(\"Test data shape\", x_test.shape) # (10000, 28, 28) -- 10000 images, each 28x28\n",
        "\n",
        "# Flatten the images\n",
        "image_vector_size = 28*28\n",
        "x_train = x_train.reshape(x_train.shape[0], image_vector_size)\n",
        "x_test = x_test.reshape(x_test.shape[0], image_vector_size)"
      ],
      "execution_count": 12,
      "outputs": [
        {
          "output_type": "stream",
          "text": [
            "Training data shape:  (60000, 28, 28)\n",
            "Test data shape (10000, 28, 28)\n"
          ],
          "name": "stdout"
        }
      ]
    },
    {
      "cell_type": "code",
      "metadata": {
        "id": "4ItrFUYEg7SI",
        "colab_type": "code",
        "outputId": "3d9e8654-baf0-422f-8770-226e7e959e0e",
        "colab": {
          "base_uri": "https://localhost:8080/",
          "height": 51
        }
      },
      "source": [
        "print(\"Training data shape: \", x_train.shape) # (60000, 28, 28) -- 60000 images, each 28x28 pixels\n",
        "print(\"Test data shape\", x_test.shape) # (10000, 28, 28) -- 10000 images, each 28x28"
      ],
      "execution_count": 13,
      "outputs": [
        {
          "output_type": "stream",
          "text": [
            "Training data shape:  (60000, 784)\n",
            "Test data shape (10000, 784)\n"
          ],
          "name": "stdout"
        }
      ]
    },
    {
      "cell_type": "code",
      "metadata": {
        "id": "UJ_MWm4wg7ix",
        "colab_type": "code",
        "colab": {}
      },
      "source": [
        "# Function to extract the classes\n",
        "def extract_2classes(class0, class1, X, Y):\n",
        "    # Select class #0\n",
        "    X_0 = X[Y == class0]\n",
        "    Y_0 = Y[Y == class0]\n",
        "    # Select class #1\n",
        "    X_1 = X[Y == class1]\n",
        "    Y_1 = Y[Y == class1]\n",
        "    # Join the two classes to make the set\n",
        "    X_2classes = np.vstack((X_0, X_1))\n",
        "    Y_2classes = np.append(Y_0, Y_1)\n",
        "    return X_2classes, Y_2classes"
      ],
      "execution_count": 0,
      "outputs": []
    },
    {
      "cell_type": "code",
      "metadata": {
        "id": "fG-YcWSuhKI9",
        "colab_type": "code",
        "colab": {}
      },
      "source": [
        "X_train_2classes, Y_train_2classes = extract_2classes(5, 7, x_train, y_train)\n",
        "X_test_2classes, Y_test_2classes = extract_2classes(5, 7,x_test, y_test)"
      ],
      "execution_count": 0,
      "outputs": []
    },
    {
      "cell_type": "code",
      "metadata": {
        "id": "exespOWBjDx_",
        "colab_type": "code",
        "outputId": "7d41bc97-b75c-4301-fb4a-6064c7a11530",
        "colab": {
          "base_uri": "https://localhost:8080/",
          "height": 51
        }
      },
      "source": [
        "print(\"Training data shape: \", X_train_2classes.shape) # (60000, 28, 28) -- 60000 images, each 28x28 pixels\n",
        "print(\"Test data shape\", X_test_2classes.shape) # (10000, 28, 28) -- 10000 images, each 28x28"
      ],
      "execution_count": 16,
      "outputs": [
        {
          "output_type": "stream",
          "text": [
            "Training data shape:  (11686, 784)\n",
            "Test data shape (1920, 784)\n"
          ],
          "name": "stdout"
        }
      ]
    },
    {
      "cell_type": "code",
      "metadata": {
        "id": "_qhlgfoEh3KP",
        "colab_type": "code",
        "colab": {}
      },
      "source": [
        "from sklearn.metrics import accuracy_score\n",
        "from sklearn.linear_model import Perceptron\n",
        "\n",
        "def predict(train_features,test_features,train_labels): \n",
        "    clf = Perceptron(tol=1e-3, random_state=0)\n",
        "    # Fitting the data into the model\n",
        "    clf.fit(train_features, train_labels)\n",
        "    # Predicting the labels for test data\n",
        "    predicted_values = clf.predict(test_features)\n",
        "    return predicted_values\n",
        "    \n",
        "def calc_accuracy(train_features,test_features,train_labels,test_labels):\n",
        "    # Calling predict function to get the predicted labels of test data\n",
        "    pred = predict(train_features,test_features,train_labels)\n",
        "    return accuracy_score(pred, test_labels)\n",
        "  "
      ],
      "execution_count": 0,
      "outputs": []
    },
    {
      "cell_type": "code",
      "metadata": {
        "id": "eh2H-ZgFh9JW",
        "colab_type": "code",
        "outputId": "ac64ffb4-07ff-4c0a-dc17-d586d8f7e403",
        "colab": {
          "base_uri": "https://localhost:8080/",
          "height": 34
        }
      },
      "source": [
        "calc_accuracy(X_train_2classes,X_test_2classes,Y_train_2classes,Y_test_2classes)"
      ],
      "execution_count": 18,
      "outputs": [
        {
          "output_type": "execute_result",
          "data": {
            "text/plain": [
              "0.9895833333333334"
            ]
          },
          "metadata": {
            "tags": []
          },
          "execution_count": 18
        }
      ]
    },
    {
      "cell_type": "markdown",
      "metadata": {
        "id": "QSGjoDg1JW3T",
        "colab_type": "text"
      },
      "source": [
        "Apply cross validation on MNIST dataset and report the graph for K vs training and validation acc (For k=4:10\n"
      ]
    },
    {
      "cell_type": "code",
      "metadata": {
        "id": "mJBJGrrZJaQN",
        "colab_type": "code",
        "colab": {}
      },
      "source": [
        "from sklearn.model_selection import train_test_split\n",
        "X_train, X_test, y_train, y_test = train_test_split(X_train_2classes, Y_train_2classes, test_size=0.001, random_state=42)"
      ],
      "execution_count": 0,
      "outputs": []
    },
    {
      "cell_type": "code",
      "metadata": {
        "id": "hkMvBTTWJmgb",
        "colab_type": "code",
        "colab": {
          "base_uri": "https://localhost:8080/",
          "height": 296
        },
        "outputId": "6f5695cd-ecec-4f19-ad2e-24f100e56869"
      },
      "source": [
        "import matplotlib.pyplot as plt\n",
        "from sklearn.model_selection import cross_val_score\n",
        "from sklearn.model_selection import cross_val_predict\n",
        "from sklearn.model_selection import KFold\n",
        "clf = Perceptron(tol=1e-3, random_state=0)\n",
        "\n",
        "sc = []\n",
        "ac = []\n",
        "x = []\n",
        "Xv_train=[]\n",
        "Xv_test=[]\n",
        "yv_train=[]\n",
        "yv_test=[]\n",
        "for i in range(4,10):\n",
        "  valaccuracy=[]\n",
        "  accuracy=[]\n",
        "  scores = cross_val_score(clf, X_train, y_train, cv=i)\n",
        "  kf = KFold(n_splits=i)\n",
        "  kf.get_n_splits(X_train)\n",
        "  \n",
        "  for train_index, test_index in kf.split(X):\n",
        "    Xv_train, Xv_test = X_train[train_index], X_train[test_index]\n",
        "    yv_train, yv_test = y_train[train_index], y_train[test_index]\n",
        "    clf.fit(Xv_train, yv_train)\n",
        "    predicted_values = clf.predict(X_test_2classes)\n",
        "    accuracy.append(accuracy_score(predicted_values, Y_test_2classes))\n",
        "  accuracy=np.array(accuracy)\n",
        "  sc.append(scores.mean())\n",
        "  ac.append(accuracy.mean())\n",
        "  x.append(i)\n",
        "  \n",
        "plt.scatter(x,sc,label='Training')\n",
        "plt.legend()\n",
        "plt.xlabel(\"k values\")\n",
        "plt.ylabel(\"% accuracy\")\n",
        "plt.scatter(x,ac,label='Validation')\n",
        "plt.legend()"
      ],
      "execution_count": 35,
      "outputs": [
        {
          "output_type": "execute_result",
          "data": {
            "text/plain": [
              "<matplotlib.legend.Legend at 0x7f2eb39fae10>"
            ]
          },
          "metadata": {
            "tags": []
          },
          "execution_count": 35
        },
        {
          "output_type": "display_data",
          "data": {
            "image/png": "[encoded data removed]",
            "text/plain": [
              "<Figure size 432x288 with 1 Axes>"
            ]
          },
          "metadata": {
            "tags": [],
            "needs_background": "light"
          }
        }
      ]
    }
  ]
}