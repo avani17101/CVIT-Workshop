{
  "nbformat": 4,
  "nbformat_minor": 0,
  "metadata": {
    "colab": {
      "name": "Copy of KNN_Iris_data.ipynb",
      "provenance": [],
      "collapsed_sections": []
    },
    "kernelspec": {
      "name": "python3",
      "display_name": "Python 3"
    },
    "accelerator": "GPU"
  },
  "cells": [
    {
      "cell_type": "markdown",
      "metadata": {
        "id": "VTMfvxuSrLUR",
        "colab_type": "text"
      },
      "source": [
        "## Dataset"
      ]
    },
    {
      "cell_type": "markdown",
      "metadata": {
        "id": "Kz2T6C2MrPp6",
        "colab_type": "text"
      },
      "source": [
        "#### History\n",
        "\n",
        "This is a multivariate dataset introduced by R.A.Fisher (Father of Modern Statistics) for showcasing linear discriminant analysis. This is arguably the best known dataset in Feature Selection literature.\n",
        "\n",
        "\n",
        "The data set contains 3 classes of 50 instances each, where each class refers to a type of iris plant. One class is linearly separable from the other 2; the latter are NOT linearly separable from each other. "
      ]
    },
    {
      "cell_type": "markdown",
      "metadata": {
        "id": "62AAQoRKrQIK",
        "colab_type": "text"
      },
      "source": [
        "#### Description\n",
        "The Iris dataset consists of 150 data instances. There are 3 classes (Iris Versicolor, Iris Setosa and Iris Virginica) each have 50 instances. \n",
        "\n",
        "\n",
        "For each flower we have the below data attributes \n",
        "\n",
        "- sepal length in cm\n",
        "- sepal width in cm\n",
        "- petal length in cm\n",
        "- petal width in cm\n",
        "\n",
        "To make our experiment easy we rename the classes  with numbers : \n",
        "\n",
        "    \"0\": setosa\n",
        "    \"1\": versicolor\n",
        "    \"2\": virginica\n",
        "    "
      ]
    },
    {
      "cell_type": "markdown",
      "metadata": {
        "id": "J-KMXJrArUFg",
        "colab_type": "text"
      },
      "source": [
        "### Challenges\n",
        "\n",
        "When we use the data with large number of features or dimensionality, models usually choke because\n",
        "\n",
        "    1. Training time increases exponentially with number of features.\n",
        "    2. Models have increasing risk of overfitting with increasing number of features.\n",
        "    \n",
        "To avoid the above mentioned problems while learning about data analysis, we use simple, well behaved, data that reduces the cognitive load, and makes it easier to debug as we are able to better comprehend the data we are working with.  \n",
        "\n",
        "Hence, this is a good dataset to work on."
      ]
    },
    {
      "cell_type": "markdown",
      "metadata": {
        "id": "06lEbv7grYmm",
        "colab_type": "text"
      },
      "source": [
        "## Domain Information"
      ]
    },
    {
      "cell_type": "markdown",
      "metadata": {
        "id": "QIB3dtlNrWy6",
        "colab_type": "text"
      },
      "source": [
        "\n",
        "\n",
        "Iris Plants are flowering plants with showy flowers. They are very popular among movie directors as it gives excellent background. \n",
        "\n",
        "They are predominantly found in dry, semi-desert, or colder rocky mountainous areas in Europe and Asia. They have long, erect flowering stems and can produce white, yellow, orange, pink, purple, lavender, blue or brown colored flowers. There are 260 to 300 types of iris.\n",
        "\n",
        "![alt text](https://cdn-images-1.medium.com/max/1275/1*7bnLKsChXq94QjtAiRn40w.png)\n",
        "\n",
        "As you could see, flowers have 3 sepals and 3 petals.  The sepals are usually spreading or drop downwards and the petals stand upright, partly behind the sepal bases. However, the length and width of the sepals and petals vary for each type.\n"
      ]
    },
    {
      "cell_type": "markdown",
      "metadata": {
        "id": "s3y2Exi10krJ",
        "colab_type": "text"
      },
      "source": [
        "### Setup Steps"
      ]
    },
    {
      "cell_type": "code",
      "metadata": {
        "id": "UyXv7drCezRm",
        "colab_type": "code",
        "cellView": "form",
        "colab": {
          "base_uri": "https://localhost:8080/",
          "height": 55
        },
        "outputId": "9ede762d-f5e3-438c-8e02-b2caafa59529"
      },
      "source": [
        "#@title Run this cell to complete the setup for this Notebook\n",
        "from IPython import get_ipython\n",
        "\n",
        "ipython = get_ipython()\n",
        "\n",
        "ipython.magic(\"sx apt-get install graphviz\")\n",
        "ipython.magic(\"sx pip install graphviz\")\n"
      ],
      "execution_count": 1,
      "outputs": [
        {
          "output_type": "execute_result",
          "data": {
            "text/plain": [
              "['Requirement already satisfied: graphviz in /usr/local/lib/python3.6/dist-packages (0.10.1)']"
            ]
          },
          "metadata": {
            "tags": []
          },
          "execution_count": 1
        }
      ]
    },
    {
      "cell_type": "markdown",
      "metadata": {
        "id": "Y9pFXqtfbcxG",
        "colab_type": "text"
      },
      "source": [
        "#### Importing Required Packages"
      ]
    },
    {
      "cell_type": "code",
      "metadata": {
        "id": "hOiKa2ma0iXG",
        "colab_type": "code",
        "colab": {}
      },
      "source": [
        "import numpy as np\n",
        "import matplotlib.pyplot as plt\n",
        "from sklearn.datasets import load_iris"
      ],
      "execution_count": 0,
      "outputs": []
    },
    {
      "cell_type": "markdown",
      "metadata": {
        "id": "WW2MIcyYbp3R",
        "colab_type": "text"
      },
      "source": [
        "#### Loading the data"
      ]
    },
    {
      "cell_type": "code",
      "metadata": {
        "id": "ahaXITNN0iXM",
        "colab_type": "code",
        "colab": {}
      },
      "source": [
        "# Load data\n",
        "iris = load_iris()"
      ],
      "execution_count": 0,
      "outputs": []
    },
    {
      "cell_type": "code",
      "metadata": {
        "id": "xVmjqSLl7BVE",
        "colab_type": "code",
        "colab": {
          "base_uri": "https://localhost:8080/",
          "height": 35
        },
        "outputId": "a4f4adbe-2756-4961-9068-ce1dc9f12de4"
      },
      "source": [
        "# Checking for the type of iris\n",
        "print(type(iris))"
      ],
      "execution_count": 4,
      "outputs": [
        {
          "output_type": "stream",
          "text": [
            "<class 'sklearn.utils.Bunch'>\n"
          ],
          "name": "stdout"
        }
      ]
    },
    {
      "cell_type": "code",
      "metadata": {
        "id": "IBTq2Nq77FXX",
        "colab_type": "code",
        "outputId": "b4b666a1-37f5-4726-a451-422d20f1a0a8",
        "colab": {
          "base_uri": "https://localhost:8080/",
          "height": 35
        }
      },
      "source": [
        "# Checking the keys\n",
        "print(iris.keys())"
      ],
      "execution_count": 5,
      "outputs": [
        {
          "output_type": "stream",
          "text": [
            "dict_keys(['data', 'target', 'target_names', 'DESCR', 'feature_names', 'filename'])\n"
          ],
          "name": "stdout"
        }
      ]
    },
    {
      "cell_type": "code",
      "metadata": {
        "id": "ToZ3tlUF7K55",
        "colab_type": "code",
        "outputId": "f00fa61e-5fe7-4a2a-8153-ec4c89f6b7f9",
        "colab": {
          "base_uri": "https://localhost:8080/",
          "height": 35
        }
      },
      "source": [
        "# Checking for the type of data\n",
        "print(type(iris.data))"
      ],
      "execution_count": 6,
      "outputs": [
        {
          "output_type": "stream",
          "text": [
            "<class 'numpy.ndarray'>\n"
          ],
          "name": "stdout"
        }
      ]
    },
    {
      "cell_type": "code",
      "metadata": {
        "id": "7uoeDccj7O2r",
        "colab_type": "code",
        "outputId": "335b2e88-4a9e-458c-8575-aa67c5a15bdd",
        "colab": {
          "base_uri": "https://localhost:8080/",
          "height": 35
        }
      },
      "source": [
        "# Checking for unique target or class values\n",
        "print(set(iris.target))"
      ],
      "execution_count": 7,
      "outputs": [
        {
          "output_type": "stream",
          "text": [
            "{0, 1, 2}\n"
          ],
          "name": "stdout"
        }
      ]
    },
    {
      "cell_type": "code",
      "metadata": {
        "id": "2HKXHXoi0iXT",
        "colab_type": "code",
        "outputId": "38e87d58-9940-4c4c-e673-f81d6d2deb62",
        "colab": {
          "base_uri": "https://localhost:8080/",
          "height": 199
        }
      },
      "source": [
        "# Let us see how the iris data looks\n",
        "print(iris.data[::15])"
      ],
      "execution_count": 8,
      "outputs": [
        {
          "output_type": "stream",
          "text": [
            "[[5.1 3.5 1.4 0.2]\n",
            " [5.7 4.4 1.5 0.4]\n",
            " [4.8 3.1 1.6 0.2]\n",
            " [4.8 3.  1.4 0.3]\n",
            " [5.  2.  3.5 1. ]\n",
            " [6.6 3.  4.4 1.4]\n",
            " [5.5 2.6 4.4 1.2]\n",
            " [7.6 3.  6.6 2.1]\n",
            " [6.9 3.2 5.7 2.3]\n",
            " [7.7 3.  6.1 2.3]]\n"
          ],
          "name": "stdout"
        }
      ]
    },
    {
      "cell_type": "code",
      "metadata": {
        "id": "lVws1ElL7ZVD",
        "colab_type": "code",
        "outputId": "9f152836-26f6-4832-c809-12bb81bc808c",
        "colab": {
          "base_uri": "https://localhost:8080/",
          "height": 35
        }
      },
      "source": [
        "# Let us see how the labels \n",
        "print(iris.target[::15])"
      ],
      "execution_count": 9,
      "outputs": [
        {
          "output_type": "stream",
          "text": [
            "[0 0 0 0 1 1 1 2 2 2]\n"
          ],
          "name": "stdout"
        }
      ]
    },
    {
      "cell_type": "code",
      "metadata": {
        "id": "huEVABwD76Lh",
        "colab_type": "code",
        "colab": {}
      },
      "source": [
        "# Storing the data and labels into \"X\" and \"y\" varaibles\n",
        "X = iris.data\n",
        "y = iris.target"
      ],
      "execution_count": 0,
      "outputs": []
    },
    {
      "cell_type": "markdown",
      "metadata": {
        "id": "I7U-Twt17lbo",
        "colab_type": "text"
      },
      "source": [
        "### Splitting the data into train and test sets "
      ]
    },
    {
      "cell_type": "code",
      "metadata": {
        "id": "jjP5s4zX7vyL",
        "colab_type": "code",
        "colab": {}
      },
      "source": [
        "from sklearn.model_selection import train_test_split"
      ],
      "execution_count": 0,
      "outputs": []
    },
    {
      "cell_type": "code",
      "metadata": {
        "id": "LK8VJHlv71Bd",
        "colab_type": "code",
        "colab": {}
      },
      "source": [
        "# Training and testing set ratio is 70 : 30\n",
        "X_train, X_test, y_train, y_test = train_test_split(X, y, test_size=0.33, random_state=42)"
      ],
      "execution_count": 0,
      "outputs": []
    },
    {
      "cell_type": "code",
      "metadata": {
        "id": "-t0sCcrA8Mhq",
        "colab_type": "code",
        "outputId": "278d821a-a25d-460e-c779-50a62e14ee31",
        "colab": {
          "base_uri": "https://localhost:8080/",
          "height": 35
        }
      },
      "source": [
        "# Let us see the size of train and  test sets\n",
        "X_train.shape, X_test.shape"
      ],
      "execution_count": 13,
      "outputs": [
        {
          "output_type": "execute_result",
          "data": {
            "text/plain": [
              "((100, 4), (50, 4))"
            ]
          },
          "metadata": {
            "tags": []
          },
          "execution_count": 13
        }
      ]
    },
    {
      "cell_type": "code",
      "metadata": {
        "id": "v92X7J-68Vdc",
        "colab_type": "code",
        "outputId": "3ae40860-6eb5-4da2-c4a4-e29ea8acd456",
        "colab": {
          "base_uri": "https://localhost:8080/",
          "height": 108
        }
      },
      "source": [
        "# Let us see first five rows of the training data\n",
        "X_train[:5]"
      ],
      "execution_count": 14,
      "outputs": [
        {
          "output_type": "execute_result",
          "data": {
            "text/plain": [
              "array([[5.7, 2.9, 4.2, 1.3],\n",
              "       [7.6, 3. , 6.6, 2.1],\n",
              "       [5.6, 3. , 4.5, 1.5],\n",
              "       [5.1, 3.5, 1.4, 0.2],\n",
              "       [7.7, 2.8, 6.7, 2. ]])"
            ]
          },
          "metadata": {
            "tags": []
          },
          "execution_count": 14
        }
      ]
    },
    {
      "cell_type": "markdown",
      "metadata": {
        "id": "EFpCi8-jbyOO",
        "colab_type": "text"
      },
      "source": [
        "### Training a  Knn Classifier "
      ]
    },
    {
      "cell_type": "code",
      "metadata": {
        "id": "CJ1mY7jB8iMv",
        "colab_type": "code",
        "colab": {}
      },
      "source": [
        "from sklearn.neighbors import KNeighborsClassifier"
      ],
      "execution_count": 0,
      "outputs": []
    },
    {
      "cell_type": "code",
      "metadata": {
        "id": "5sNJ0RcK8neX",
        "colab_type": "code",
        "outputId": "2214baee-aa00-47f8-f2ea-5b6b79e35186",
        "colab": {
          "base_uri": "https://localhost:8080/",
          "height": 35
        }
      },
      "source": [
        "neigh = KNeighborsClassifier(n_neighbors=3)\n",
        "neigh.fit(X_train,y_train)\n",
        "neigh.predict(X_test)\n",
        "neigh.score(X_test,y_test)"
      ],
      "execution_count": 16,
      "outputs": [
        {
          "output_type": "execute_result",
          "data": {
            "text/plain": [
              "0.98"
            ]
          },
          "metadata": {
            "tags": []
          },
          "execution_count": 16
        }
      ]
    },
    {
      "cell_type": "code",
      "metadata": {
        "id": "7FAEVCEL8qV2",
        "colab_type": "code",
        "colab": {
          "base_uri": "https://localhost:8080/",
          "height": 265
        },
        "outputId": "b5076057-ab0b-462c-b026-a250a109762f"
      },
      "source": [
        "# Plot a graph showing accuracy vs number of neighbours for each value of n_neighbours from 1-50\n",
        "%matplotlib inline\n",
        "score = []\n",
        "ar = []\n",
        "for i in range(1,50):\n",
        "  neigh = KNeighborsClassifier(n_neighbors=i)\n",
        "  neigh.fit(X_train,y_train)\n",
        "  neigh.predict(X_test)\n",
        "  score.append(neigh.score(X_test,y_test))\n",
        "  ar.append(i)\n",
        "\n",
        "plt.plot(ar,score)\n",
        "plt.show()"
      ],
      "execution_count": 17,
      "outputs": [
        {
          "output_type": "display_data",
          "data": {
            "image/png": "[encoded data removed]",
            "text/plain": [
              "<Figure size 432x288 with 1 Axes>"
            ]
          },
          "metadata": {
            "tags": [],
            "needs_background": "light"
          }
        }
      ]
    }
  ]
}